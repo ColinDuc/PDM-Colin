{
 "cells": [
  {
   "cell_type": "markdown",
   "metadata": {},
   "source": [
    "# Même gare de départ / même gare d'arrivée\n",
    "\n",
    "ça revient à avoir une seule marche"
   ]
  },
  {
   "cell_type": "code",
   "execution_count": 19,
   "metadata": {},
   "outputs": [],
   "source": [
    "# Time limit\n",
    "T = 20\n",
    "\n",
    "# Stations number\n",
    "D = 10\n",
    "\n",
    "# Requests number\n",
    "R = 10"
   ]
  },
  {
   "cell_type": "code",
   "execution_count": 20,
   "metadata": {},
   "outputs": [
    {
     "name": "stdout",
     "output_type": "stream",
     "text": [
      "[(2, 7, 4, 7), (2, 10, 3, 19), (2, 6, 15, 19), (2, 3, 3, 19), (2, 3, 12, 19), (2, 6, 14, 17), (2, 8, 18, 19), (2, 3, 0, 1), (2, 9, 17, 18), (2, 3, 6, 13)]\n"
     ]
    }
   ],
   "source": [
    "from random import seed\n",
    "from random import randint\n",
    "\n",
    "# seed random number generator\n",
    "seed(1)\n",
    "\n",
    "requests_list = []\n",
    "\n",
    "for i in range(R):\n",
    "    t1 = randint(0,T-1)\n",
    "    t2 = randint(t1+1,T)\n",
    "    # Même gare de départ (disons 2)\n",
    "    d1 = 2\n",
    "    d2 = randint(d1+1,D)\n",
    "    r = (d1,d2,t1,t2)\n",
    "    requests_list.append(r)\n",
    "print(requests_list)"
   ]
  },
  {
   "cell_type": "markdown",
   "metadata": {},
   "source": [
    "# Plot the rectangles"
   ]
  },
  {
   "cell_type": "code",
   "execution_count": 21,
   "metadata": {
    "scrolled": true
   },
   "outputs": [
    {
     "data": {
      "image/png": "[encoded data removed]",
      "text/plain": [
       "<Figure size 720x432 with 1 Axes>"
      ]
     },
     "metadata": {
      "needs_background": "light"
     },
     "output_type": "display_data"
    }
   ],
   "source": [
    "from pylab import *\n",
    "import matplotlib.pyplot as plt\n",
    "import matplotlib.patches as patches\n",
    "\n",
    "\n",
    "# Create the window itself\n",
    "\n",
    "fig, ax = plt.subplots(figsize=(10, 6))\n",
    "\n",
    "xlim(0,10)\n",
    "ylim(0,20)\n",
    "\n",
    "# Create the rectangles \"patchs\"\n",
    "for i in range(R):\n",
    "    a = requests_list[i]\n",
    "    rect = patches.Rectangle((a[0],a[2]),a[1]-a[0],a[3]-a[2], linewidth=1, edgecolor='r', facecolor='none')\n",
    "\n",
    "# Add the rectangle to the Axes\n",
    "    ax.add_patch(rect)\n",
    "\n",
    "plt.show()"
   ]
  },
  {
   "cell_type": "markdown",
   "metadata": {},
   "source": [
    "# Select the best horizontal line\n",
    "\n",
    "passera obligatoirement par le top ou le bot d'un rectangle (2 n possibilités)\n",
    "\n",
    "On ne s'intéresse pas aux lieux de départs/arrivées (longueur des rectangles)"
   ]
  },
  {
   "cell_type": "code",
   "execution_count": 22,
   "metadata": {},
   "outputs": [],
   "source": [
    "possible_list = []\n",
    "for r in requests_list:\n",
    "    possible_list.append(r[2])\n",
    "    possible_list.append(r[3])\n",
    "possible_list = list(set(possible_list))\n",
    "possible_list.sort(reverse=True)"
   ]
  },
  {
   "cell_type": "code",
   "execution_count": 23,
   "metadata": {},
   "outputs": [
    {
     "name": "stdout",
     "output_type": "stream",
     "text": [
      "[(18, 6), (17, 6), (19, 5), (15, 5), (14, 4), (13, 4), (12, 4), (7, 4), (6, 4), (4, 3), (3, 2), (1, 1), (0, 1)]\n"
     ]
    }
   ],
   "source": [
    "n = []\n",
    "a = 0\n",
    "for i in possible_list:\n",
    "    for r in requests_list:\n",
    "        if i >= r[2] and i <= r[3]:\n",
    "            a = a + 1\n",
    "    n.append((i,a))\n",
    "    a = 0\n",
    "\n",
    "def second(a):\n",
    "    return(a[1])\n",
    "n.sort(key=second, reverse = True)\n",
    "\n",
    "print(n)"
   ]
  },
  {
   "cell_type": "markdown",
   "metadata": {},
   "source": [
    "# Rectangles with opti line"
   ]
  },
  {
   "cell_type": "code",
   "execution_count": 24,
   "metadata": {},
   "outputs": [
    {
     "data": {
      "image/png": "[encoded data removed]",
      "text/plain": [
       "<Figure size 720x432 with 1 Axes>"
      ]
     },
     "metadata": {
      "needs_background": "light"
     },
     "output_type": "display_data"
    }
   ],
   "source": [
    "from pylab import *\n",
    "import matplotlib.pyplot as plt\n",
    "import matplotlib.patches as patches\n",
    "\n",
    "\n",
    "# Create the window itself\n",
    "\n",
    "fig, ax = plt.subplots(figsize=(10, 6))\n",
    "\n",
    "xlim(0,10)\n",
    "ylim(0,20)\n",
    "\n",
    "# Create the rectangles \"patchs\"\n",
    "for i in range(R):\n",
    "    a = requests_list[i]\n",
    "    rect = patches.Rectangle((a[0],a[2]),a[1]-a[0],a[3]-a[2], linewidth=1, edgecolor='r', facecolor='none')\n",
    "\n",
    "# Add the rectangle to the Axes\n",
    "    ax.add_patch(rect)\n",
    "    \n",
    "plt.axhline(y=n[0][0])\n",
    "\n",
    "plt.show()"
   ]
  },
  {
   "cell_type": "markdown",
   "metadata": {},
   "source": [
    "# Même gare d'arrivée (la 18)"
   ]
  },
  {
   "cell_type": "code",
   "execution_count": 25,
   "metadata": {},
   "outputs": [
    {
     "name": "stdout",
     "output_type": "stream",
     "text": [
      "[(4, 20, 4, 7), (7, 20, 3, 19), (3, 20, 15, 19), (0, 20, 3, 19), (9, 20, 12, 19), (4, 20, 0, 15), (1, 20, 7, 17), (0, 20, 10, 11), (0, 20, 0, 18), (6, 20, 12, 16)]\n"
     ]
    }
   ],
   "source": [
    "from random import seed\n",
    "from random import randint\n",
    "\n",
    "# seed random number generator\n",
    "seed(1)\n",
    "\n",
    "requests_list = []\n",
    "\n",
    "for i in range(R):\n",
    "    t1 = randint(0,T-1)\n",
    "    t2 = randint(t1+1,T)\n",
    "    d1 = randint(0,D-1)\n",
    "    # Même gare d'arrivée (20)\n",
    "    d2 = 20\n",
    "    r = (d1,d2,t1,t2)\n",
    "    requests_list.append(r)\n",
    "print(requests_list)"
   ]
  },
  {
   "cell_type": "code",
   "execution_count": 26,
   "metadata": {},
   "outputs": [
    {
     "name": "stdout",
     "output_type": "stream",
     "text": [
      "[(15, 8), (16, 7), (12, 7), (17, 6), (11, 6), (10, 6), (7, 6), (18, 5), (4, 5), (19, 4), (3, 4), (0, 2)]\n"
     ]
    }
   ],
   "source": [
    "possible_list = []\n",
    "for r in requests_list:\n",
    "    possible_list.append(r[2])\n",
    "    possible_list.append(r[3])\n",
    "possible_list = list(set(possible_list))\n",
    "possible_list.sort(reverse=True)\n",
    "\n",
    "n = []\n",
    "a = 0\n",
    "for i in possible_list:\n",
    "    for r in requests_list:\n",
    "        if i >= r[2] and i <= r[3]:\n",
    "            a = a + 1\n",
    "    n.append((i,a))\n",
    "    a = 0\n",
    "\n",
    "def second(a):\n",
    "    return(a[1])\n",
    "n.sort(key=second, reverse = True)\n",
    "\n",
    "print(n)"
   ]
  },
  {
   "cell_type": "code",
   "execution_count": 27,
   "metadata": {},
   "outputs": [
    {
     "data": {
      "image/png": "[encoded data removed]",
      "text/plain": [
       "<Figure size 720x432 with 1 Axes>"
      ]
     },
     "metadata": {
      "needs_background": "light"
     },
     "output_type": "display_data"
    }
   ],
   "source": [
    "from pylab import *\n",
    "import matplotlib.pyplot as plt\n",
    "import matplotlib.patches as patches\n",
    "\n",
    "\n",
    "# Create the window itself\n",
    "\n",
    "fig, ax = plt.subplots(figsize=(10, 6))\n",
    "\n",
    "xlim(0,10)\n",
    "ylim(0,20)\n",
    "\n",
    "# Create the rectangles \"patchs\"\n",
    "for i in range(R):\n",
    "    a = requests_list[i]\n",
    "    rect = patches.Rectangle((a[0],a[2]),a[1]-a[0],a[3]-a[2], linewidth=1, edgecolor='r', facecolor='none')\n",
    "\n",
    "# Add the rectangle to the Axes\n",
    "    ax.add_patch(rect)\n",
    "    \n",
    "plt.axhline(y=n[0][0])\n",
    "\n",
    "plt.show()"
   ]
  },
  {
   "cell_type": "code",
   "execution_count": null,
   "metadata": {},
   "outputs": [],
   "source": [
    "# On compare avec "
   ]
  }
 ],
 "metadata": {
  "kernelspec": {
   "display_name": "Python 3",
   "language": "python",
   "name": "python3"
  },
  "language_info": {
   "codemirror_mode": {
    "name": "ipython",
    "version": 3
   },
   "file_extension": ".py",
   "mimetype": "text/x-python",
   "name": "python",
   "nbconvert_exporter": "python",
   "pygments_lexer": "ipython3",
   "version": "3.7.4"
  }
 },
 "nbformat": 4,
 "nbformat_minor": 2
}

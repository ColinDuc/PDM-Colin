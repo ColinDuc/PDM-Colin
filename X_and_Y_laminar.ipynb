{
 "cells": [
  {
   "cell_type": "code",
   "execution_count": 1,
   "metadata": {},
   "outputs": [],
   "source": [
    "# Time limit\n",
    "T = 20\n",
    "\n",
    "# Stations number\n",
    "D = 20\n",
    "\n",
    "# Requests number\n",
    "R = 40"
   ]
  },
  {
   "cell_type": "markdown",
   "metadata": {},
   "source": [
    "# Generate random X and Y laminar requests"
   ]
  },
  {
   "cell_type": "code",
   "execution_count": 2,
   "metadata": {},
   "outputs": [
    {
     "name": "stdout",
     "output_type": "stream",
     "text": [
      "[(18, 20, 4, 7), (15, 17, 3, 4), (6, 14, 12, 14), (12, 13, 0, 2), (8, 10, 14, 20), (3, 4, 18, 20), (0, 3, 0, 3), (12, 13, 0, 3), (0, 2, 13, 14), (17, 18, 15, 16), (7, 8, 7, 11), (13, 14, 0, 3), (9, 10, 5, 6), (13, 14, 16, 17), (18, 20, 9, 11), (1, 2, 18, 20), (13, 14, 12, 13), (11, 12, 17, 18), (3, 6, 16, 17), (11, 12, 12, 13), (1, 2, 15, 16), (5, 6, 5, 6), (17, 18, 6, 7), (11, 12, 16, 17), (17, 18, 8, 9), (4, 5, 16, 17), (15, 16, 1, 2), (13, 14, 16, 17), (11, 12, 13, 14), (19, 20, 14, 15), (17, 18, 5, 6), (8, 9, 17, 18), (0, 1, 2, 3), (7, 8, 8, 9), (5, 6, 19, 20), (5, 6, 2, 3), (5, 6, 16, 17), (10, 11, 14, 15), (0, 1, 3, 4), (13, 14, 10, 11)]\n"
     ]
    }
   ],
   "source": [
    "from random import seed\n",
    "from random import randint\n",
    "\n",
    "# seed random number generator\n",
    "seed(1)\n",
    "\n",
    "requests_list = []\n",
    "\n",
    "for i in range(R):\n",
    "    # Les 2 coordonnées du point inférieur gauche sont random\n",
    "    t1 = randint(0,T-1)\n",
    "    d1 = randint(0,D-1)\n",
    "    # Le top et right dépend des rectangles déjà créé...\n",
    "    toplimit = T\n",
    "    rightlimit = D\n",
    "                \n",
    "    for r in requests_list:\n",
    "        # Si left est dans le rectangle:\n",
    "        if d1 > r[0] and d1 < r[1]:\n",
    "            # limite à droite est right du rectangle\n",
    "            rightlimit = min(r[1],rightlimit)\n",
    "        # si left est à droite:\n",
    "        if d1 > r[1]:\n",
    "            # limite à droite est D\n",
    "            rightlimit = rightlimit\n",
    "        # si left est à gauche:\n",
    "        if d1 < r[0]:\n",
    "            # limite à droite est soit bord gauche, soit D POUR L'INSTANT à GAUCHE !!!\n",
    "            rightlimit = min(r[0], rightlimit)\n",
    "        \n",
    "        # Même construction de contraintes selon y:\n",
    "        if t1 > r[2] and t1 < r[3]:\n",
    "            toplimit = min(r[3],toplimit)\n",
    "        if t1 > r[3]:\n",
    "            toplimit = toplimit\n",
    "        if t1 < r[2]:\n",
    "            # POUR L'INSTANT EN BAS\n",
    "            # On voudrait plus petit que gauche OU plus grand que droitw\n",
    "            toplimit = min(r[2],toplimit)\n",
    "        \n",
    "    t2 = randint(t1+1,toplimit)\n",
    "    d2 = randint(d1+1,rightlimit)\n",
    "    r = (d1,d2,t1,t2)\n",
    "    requests_list.append(r)\n",
    "print(requests_list)"
   ]
  },
  {
   "cell_type": "code",
   "execution_count": 4,
   "metadata": {},
   "outputs": [
    {
     "data": {
      "image/png": "[encoded data removed]",
      "text/plain": [
       "<Figure size 720x432 with 1 Axes>"
      ]
     },
     "metadata": {
      "needs_background": "light"
     },
     "output_type": "display_data"
    }
   ],
   "source": [
    "from pylab import *\n",
    "import matplotlib.pyplot as plt\n",
    "import matplotlib.patches as patches\n",
    "\n",
    "\n",
    "# Create the window itself\n",
    "\n",
    "fig, ax = plt.subplots(figsize=(10, 6))\n",
    "\n",
    "xlim(0,20)\n",
    "ylim(0,20)\n",
    "\n",
    "# Create the rectangles \"patchs\"\n",
    "for i in range(R):\n",
    "    a = requests_list[i]\n",
    "    rect = patches.Rectangle((a[0],a[2]),a[1]-a[0],a[3]-a[2], linewidth=1, edgecolor='r', facecolor='none')\n",
    "\n",
    "# Add the rectangle to the Axes\n",
    "    ax.add_patch(rect)\n",
    " \n",
    "plt.show() "
   ]
  },
  {
   "cell_type": "markdown",
   "metadata": {},
   "source": [
    "# Uniquement X_laminar"
   ]
  },
  {
   "cell_type": "code",
   "execution_count": 12,
   "metadata": {},
   "outputs": [
    {
     "name": "stdout",
     "output_type": "stream",
     "text": [
      "[]\n",
      "[19]\n",
      "[19, 16]\n",
      "[19, 16]\n",
      "[19, 16]\n",
      "[19, 16, 7, 8, 9, 10, 11, 12, 13, 9]\n",
      "[19, 16, 7, 8, 9, 10, 11, 12, 13, 9]\n",
      "[19, 16, 9]\n",
      "[19, 16, 9]\n",
      "[19, 16, 9]\n",
      "[19, 16]\n",
      "[19]\n",
      "[19, 16]\n",
      "[19, 16]\n",
      "[]\n",
      "[19, 16, 7, 8, 9, 10, 11, 12, 13, 9, 19]\n",
      "[19, 16, 19]\n",
      "[19, 16, 19]\n",
      "[19, 16, 7, 8, 9, 10, 11, 12, 13, 9, 19]\n",
      "[19, 16, 19]\n",
      "[19, 16, 7, 8, 9, 10, 11, 12, 13, 9, 19, 4, 5]\n",
      "[19, 16, 7, 8, 9, 10, 11, 12, 13, 9, 19]\n",
      "[19, 16, 9, 19]\n",
      "[19, 19]\n",
      "[19, 16, 19]\n",
      "[19, 19]\n",
      "[19, 16, 7, 8, 9, 10, 11, 12, 13, 9, 19, 4, 5]\n",
      "[19, 19]\n",
      "[19, 16, 19]\n",
      "[19, 19]\n",
      "[]\n",
      "[19, 19]\n",
      "[19, 19]\n",
      "[19, 16, 7, 8, 9, 10, 11, 12, 13, 9, 19, 4, 5]\n",
      "[19, 16, 19]\n",
      "[]\n",
      "[19, 16, 7, 8, 9, 10, 11, 12, 13, 9, 19, 4, 5]\n",
      "[19, 19]\n",
      "[19, 16, 19]\n",
      "[19, 16, 7, 8, 9, 10, 11, 12, 13, 9, 19]\n",
      "[(18, 20, 4, 7), (15, 17, 3, 18), (6, 14, 12, 14), (12, 13, 0, 14), (8, 10, 14, 20), (3, 4, 18, 20), (0, 1, 0, 18), (6, 7, 12, 19), (7, 8, 16, 20), (7, 8, 17, 19), (14, 15, 7, 12), (17, 18, 13, 19), (9, 10, 5, 7), (13, 14, 16, 18), (18, 20, 9, 17), (1, 2, 18, 20), (13, 14, 12, 15), (11, 12, 17, 18), (3, 6, 16, 18), (11, 12, 12, 20), (1, 3, 15, 18), (5, 6, 5, 14), (6, 7, 0, 18), (16, 17, 12, 18), (8, 9, 14, 20), (16, 17, 12, 15), (1, 3, 13, 17), (17, 18, 18, 19), (11, 12, 15, 19), (17, 18, 0, 18), (19, 20, 14, 15), (17, 18, 5, 15), (17, 18, 2, 11), (2, 3, 2, 3), (8, 9, 0, 8), (19, 20, 3, 9), (2, 3, 9, 12), (16, 17, 8, 11), (14, 15, 9, 15), (3, 5, 15, 16)]\n"
     ]
    }
   ],
   "source": [
    "from random import seed\n",
    "from random import randint\n",
    "\n",
    "# seed random number generator\n",
    "seed(1)\n",
    "\n",
    "requests_list = []\n",
    "\n",
    "for i in range(R):\n",
    "    # Les 2 coordonnées du point inférieur gauche sont random\n",
    "    t1 = randint(0,T-1)\n",
    "    d1 = randint(0,D-1)\n",
    "    # Le top et right dépend des rectangles déjà créé...\n",
    "    toplimit = T\n",
    "    rightlimit = D\n",
    "    valeurs_interdites = []\n",
    "    \n",
    "    for r in requests_list:\n",
    "        # Si left est dans le rectangle:\n",
    "        if d1 > r[0] and d1 < r[1]:\n",
    "            # limite à droite est right du rectangle\n",
    "            rightlimit = min(r[1],rightlimit)\n",
    "        # si left est à droite:\n",
    "        if d1 > r[1]:\n",
    "            # limite à droite est D\n",
    "            rightlimit = rightlimit\n",
    "        # si left est à gauche:\n",
    "        if d1 < r[0]:\n",
    "            # limite à droite est soit bord gauche, soit D POUR L'INSTANT à GAUCHE !!!\n",
    "            rightlimit = min(r[0], rightlimit)\n",
    "            \n",
    "            for i in range(r[1]-r[0]-1):\n",
    "                valeurs_interdites.append(r[0]+1+i)\n",
    "    print(valeurs_interdites)\n",
    "    t2 = randint(t1+1,toplimit)\n",
    "    d2 = randint(d1+1,rightlimit)\n",
    "    r = (d1,d2,t1,t2)\n",
    "    requests_list.append(r)\n",
    "print(requests_list)"
   ]
  },
  {
   "cell_type": "code",
   "execution_count": null,
   "metadata": {},
   "outputs": [],
   "source": []
  }
 ],
 "metadata": {
  "kernelspec": {
   "display_name": "Python 3",
   "language": "python",
   "name": "python3"
  },
  "language_info": {
   "codemirror_mode": {
    "name": "ipython",
    "version": 3
   },
   "file_extension": ".py",
   "mimetype": "text/x-python",
   "name": "python",
   "nbconvert_exporter": "python",
   "pygments_lexer": "ipython3",
   "version": "3.7.4"
  }
 },
 "nbformat": 4,
 "nbformat_minor": 2
}

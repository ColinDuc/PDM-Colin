{
 "cells": [
  {
   "cell_type": "markdown",
   "metadata": {},
   "source": [
    "# First Task"
   ]
  },
  {
   "cell_type": "markdown",
   "metadata": {},
   "source": [
    "T and set of stations D\n",
    "\n",
    "Entry: set of requests R (t1, t2, d1, d2)\n",
    "\n",
    "Output: stair S in R maximizing the clique"
   ]
  },
  {
   "cell_type": "markdown",
   "metadata": {},
   "source": [
    "### Tasks\n",
    "\n",
    "1) générer le set R de requests\n",
    "\n",
    "2) plot les rectangles\n",
    "\n",
    "3) résoudre le clique\n",
    "\n",
    "4) afficher le stair"
   ]
  },
  {
   "cell_type": "code",
   "execution_count": 87,
   "metadata": {},
   "outputs": [],
   "source": [
    "# Time limit\n",
    "T = 20\n",
    "\n",
    "# Stations number\n",
    "D = 10\n",
    "\n",
    "# Requests number\n",
    "R = 10"
   ]
  },
  {
   "cell_type": "markdown",
   "metadata": {},
   "source": [
    "# Generate random Requests"
   ]
  },
  {
   "cell_type": "code",
   "execution_count": 88,
   "metadata": {},
   "outputs": [
    {
     "name": "stdout",
     "output_type": "stream",
     "text": [
      "[(4, 5, 4, 7), (7, 10, 15, 19), (1, 9, 12, 16), (6, 7, 0, 13), (3, 8, 14, 17), (0, 1, 3, 14), (0, 7, 0, 18), (0, 9, 6, 13), (7, 9, 7, 20), (5, 7, 17, 18)]\n"
     ]
    }
   ],
   "source": [
    "from random import seed\n",
    "from random import randint\n",
    "\n",
    "# seed random number generator\n",
    "seed(1)\n",
    "\n",
    "requests_list = []\n",
    "\n",
    "for i in range(R):\n",
    "    t1 = randint(0,T-1)\n",
    "    t2 = randint(t1+1,T)\n",
    "    d1 = randint(0,D-1)\n",
    "    d2 = randint(d1+1,D)\n",
    "    r = (d1,d2,t1,t2)\n",
    "    requests_list.append(r)\n",
    "print(requests_list)"
   ]
  },
  {
   "cell_type": "markdown",
   "metadata": {},
   "source": [
    "# Plot the rectangles"
   ]
  },
  {
   "cell_type": "code",
   "execution_count": 102,
   "metadata": {},
   "outputs": [
    {
     "data": {
      "image/png": "[encoded data removed]",
      "text/plain": [
       "<Figure size 720x432 with 1 Axes>"
      ]
     },
     "metadata": {
      "needs_background": "light"
     },
     "output_type": "display_data"
    }
   ],
   "source": [
    "from pylab import *\n",
    "import matplotlib.pyplot as plt\n",
    "import matplotlib.patches as patches\n",
    "\n",
    "\n",
    "# Create the window itself\n",
    "\n",
    "fig, ax = plt.subplots(figsize=(10, 6))\n",
    "\n",
    "xlim(0,10)\n",
    "ylim(0,20)\n",
    "\n",
    "# Create the rectangles \"patchs\"\n",
    "for i in range(R):\n",
    "    a = requests_list[i]\n",
    "    rect = patches.Rectangle((a[0],a[2]),a[1]-a[0],a[3]-a[2], linewidth=1, edgecolor='r', facecolor='none')\n",
    "\n",
    "# Add the rectangle to the Axes\n",
    "    ax.add_patch(rect)"
   ]
  },
  {
   "cell_type": "markdown",
   "metadata": {},
   "source": [
    "# Clique creation in the graph\n",
    "\n",
    "r et s sont COMPATIBLES si r_left < s_left et r_bot < s_top\n",
    "\n",
    "                    et si r_top > s_bot si s_left < r_right\n",
    "                    \n",
    "dans requests_list, ça donne (d1,d2,t1,t2) = (r_left, r_right, r_bot, r_top)"
   ]
  },
  {
   "cell_type": "code",
   "execution_count": 90,
   "metadata": {
    "collapsed": true
   },
   "outputs": [
    {
     "name": "stdout",
     "output_type": "stream",
     "text": [
      "0 9\n",
      "(4, 5, 4, 7) (5, 7, 17, 18)\n",
      "[(0, 9)]\n",
      "0 8\n",
      "(4, 5, 4, 7) (7, 9, 7, 20)\n",
      "[(0, 9)]\n",
      "0 7\n",
      "(4, 5, 4, 7) (0, 9, 6, 13)\n",
      "(0, 9, 6, 13) (4, 5, 4, 7)\n",
      "[(0, 9), (0, 7)]\n",
      "0 6\n",
      "(4, 5, 4, 7) (0, 7, 0, 18)\n",
      "(0, 7, 0, 18) (4, 5, 4, 7)\n",
      "[(0, 9), (0, 7), (0, 6)]\n",
      "0 5\n",
      "(4, 5, 4, 7) (0, 1, 3, 14)\n",
      "(0, 1, 3, 14) (4, 5, 4, 7)\n",
      "[(0, 9), (0, 7), (0, 6)]\n",
      "0 4\n",
      "(4, 5, 4, 7) (3, 8, 14, 17)\n",
      "(3, 8, 14, 17) (4, 5, 4, 7)\n",
      "[(0, 9), (0, 7), (0, 6)]\n",
      "0 3\n",
      "(4, 5, 4, 7) (6, 7, 0, 13)\n",
      "[(0, 9), (0, 7), (0, 6)]\n",
      "0 2\n",
      "(4, 5, 4, 7) (1, 9, 12, 16)\n",
      "(1, 9, 12, 16) (4, 5, 4, 7)\n",
      "[(0, 9), (0, 7), (0, 6)]\n",
      "0 1\n",
      "(4, 5, 4, 7) (7, 10, 15, 19)\n",
      "[(0, 9), (0, 7), (0, 6), (0, 1)]\n",
      "1 9\n",
      "(7, 10, 15, 19) (5, 7, 17, 18)\n",
      "(5, 7, 17, 18) (7, 10, 15, 19)\n",
      "[(0, 9), (0, 7), (0, 6), (0, 1)]\n",
      "1 8\n",
      "(7, 10, 15, 19) (7, 9, 7, 20)\n",
      "[(0, 9), (0, 7), (0, 6), (0, 1), (1, 8)]\n",
      "1 7\n",
      "(7, 10, 15, 19) (0, 9, 6, 13)\n",
      "(0, 9, 6, 13) (7, 10, 15, 19)\n",
      "[(0, 9), (0, 7), (0, 6), (0, 1), (1, 8), (1, 7)]\n",
      "1 6\n",
      "(7, 10, 15, 19) (0, 7, 0, 18)\n",
      "(0, 7, 0, 18) (7, 10, 15, 19)\n",
      "[(0, 9), (0, 7), (0, 6), (0, 1), (1, 8), (1, 7)]\n",
      "1 5\n",
      "(7, 10, 15, 19) (0, 1, 3, 14)\n",
      "(0, 1, 3, 14) (7, 10, 15, 19)\n",
      "[(0, 9), (0, 7), (0, 6), (0, 1), (1, 8), (1, 7), (1, 5)]\n",
      "1 4\n",
      "(7, 10, 15, 19) (3, 8, 14, 17)\n",
      "(3, 8, 14, 17) (7, 10, 15, 19)\n",
      "[(0, 9), (0, 7), (0, 6), (0, 1), (1, 8), (1, 7), (1, 5), (1, 4)]\n",
      "1 3\n",
      "(7, 10, 15, 19) (6, 7, 0, 13)\n",
      "(6, 7, 0, 13) (7, 10, 15, 19)\n",
      "[(0, 9), (0, 7), (0, 6), (0, 1), (1, 8), (1, 7), (1, 5), (1, 4), (1, 3)]\n",
      "1 2\n",
      "(7, 10, 15, 19) (1, 9, 12, 16)\n",
      "(1, 9, 12, 16) (7, 10, 15, 19)\n",
      "[(0, 9), (0, 7), (0, 6), (0, 1), (1, 8), (1, 7), (1, 5), (1, 4), (1, 3), (1, 2)]\n",
      "2 9\n",
      "(1, 9, 12, 16) (5, 7, 17, 18)\n",
      "[(0, 9), (0, 7), (0, 6), (0, 1), (1, 8), (1, 7), (1, 5), (1, 4), (1, 3), (1, 2), (2, 9)]\n",
      "2 8\n",
      "(1, 9, 12, 16) (7, 9, 7, 20)\n",
      "[(0, 9), (0, 7), (0, 6), (0, 1), (1, 8), (1, 7), (1, 5), (1, 4), (1, 3), (1, 2), (2, 9), (2, 8)]\n",
      "2 7\n",
      "(1, 9, 12, 16) (0, 9, 6, 13)\n",
      "(0, 9, 6, 13) (1, 9, 12, 16)\n",
      "[(0, 9), (0, 7), (0, 6), (0, 1), (1, 8), (1, 7), (1, 5), (1, 4), (1, 3), (1, 2), (2, 9), (2, 8), (2, 7)]\n",
      "2 6\n",
      "(1, 9, 12, 16) (0, 7, 0, 18)\n",
      "(0, 7, 0, 18) (1, 9, 12, 16)\n",
      "[(0, 9), (0, 7), (0, 6), (0, 1), (1, 8), (1, 7), (1, 5), (1, 4), (1, 3), (1, 2), (2, 9), (2, 8), (2, 7), (2, 6)]\n",
      "2 5\n",
      "(1, 9, 12, 16) (0, 1, 3, 14)\n",
      "(0, 1, 3, 14) (1, 9, 12, 16)\n",
      "[(0, 9), (0, 7), (0, 6), (0, 1), (1, 8), (1, 7), (1, 5), (1, 4), (1, 3), (1, 2), (2, 9), (2, 8), (2, 7), (2, 6)]\n",
      "2 4\n",
      "(1, 9, 12, 16) (3, 8, 14, 17)\n",
      "[(0, 9), (0, 7), (0, 6), (0, 1), (1, 8), (1, 7), (1, 5), (1, 4), (1, 3), (1, 2), (2, 9), (2, 8), (2, 7), (2, 6), (2, 4)]\n",
      "2 3\n",
      "(1, 9, 12, 16) (6, 7, 0, 13)\n",
      "[(0, 9), (0, 7), (0, 6), (0, 1), (1, 8), (1, 7), (1, 5), (1, 4), (1, 3), (1, 2), (2, 9), (2, 8), (2, 7), (2, 6), (2, 4), (2, 3)]\n",
      "3 9\n",
      "(6, 7, 0, 13) (5, 7, 17, 18)\n",
      "(5, 7, 17, 18) (6, 7, 0, 13)\n",
      "[(0, 9), (0, 7), (0, 6), (0, 1), (1, 8), (1, 7), (1, 5), (1, 4), (1, 3), (1, 2), (2, 9), (2, 8), (2, 7), (2, 6), (2, 4), (2, 3)]\n",
      "3 8\n",
      "(6, 7, 0, 13) (7, 9, 7, 20)\n",
      "[(0, 9), (0, 7), (0, 6), (0, 1), (1, 8), (1, 7), (1, 5), (1, 4), (1, 3), (1, 2), (2, 9), (2, 8), (2, 7), (2, 6), (2, 4), (2, 3)]\n",
      "3 7\n",
      "(6, 7, 0, 13) (0, 9, 6, 13)\n",
      "(0, 9, 6, 13) (6, 7, 0, 13)\n",
      "[(0, 9), (0, 7), (0, 6), (0, 1), (1, 8), (1, 7), (1, 5), (1, 4), (1, 3), (1, 2), (2, 9), (2, 8), (2, 7), (2, 6), (2, 4), (2, 3), (3, 7)]\n",
      "3 6\n",
      "(6, 7, 0, 13) (0, 7, 0, 18)\n",
      "(0, 7, 0, 18) (6, 7, 0, 13)\n",
      "[(0, 9), (0, 7), (0, 6), (0, 1), (1, 8), (1, 7), (1, 5), (1, 4), (1, 3), (1, 2), (2, 9), (2, 8), (2, 7), (2, 6), (2, 4), (2, 3), (3, 7), (3, 6)]\n",
      "3 5\n",
      "(6, 7, 0, 13) (0, 1, 3, 14)\n",
      "(0, 1, 3, 14) (6, 7, 0, 13)\n",
      "[(0, 9), (0, 7), (0, 6), (0, 1), (1, 8), (1, 7), (1, 5), (1, 4), (1, 3), (1, 2), (2, 9), (2, 8), (2, 7), (2, 6), (2, 4), (2, 3), (3, 7), (3, 6)]\n",
      "3 4\n",
      "(6, 7, 0, 13) (3, 8, 14, 17)\n",
      "(3, 8, 14, 17) (6, 7, 0, 13)\n",
      "[(0, 9), (0, 7), (0, 6), (0, 1), (1, 8), (1, 7), (1, 5), (1, 4), (1, 3), (1, 2), (2, 9), (2, 8), (2, 7), (2, 6), (2, 4), (2, 3), (3, 7), (3, 6)]\n",
      "4 9\n",
      "(3, 8, 14, 17) (5, 7, 17, 18)\n",
      "[(0, 9), (0, 7), (0, 6), (0, 1), (1, 8), (1, 7), (1, 5), (1, 4), (1, 3), (1, 2), (2, 9), (2, 8), (2, 7), (2, 6), (2, 4), (2, 3), (3, 7), (3, 6), (4, 9)]\n",
      "4 8\n",
      "(3, 8, 14, 17) (7, 9, 7, 20)\n",
      "[(0, 9), (0, 7), (0, 6), (0, 1), (1, 8), (1, 7), (1, 5), (1, 4), (1, 3), (1, 2), (2, 9), (2, 8), (2, 7), (2, 6), (2, 4), (2, 3), (3, 7), (3, 6), (4, 9), (4, 8)]\n",
      "4 7\n",
      "(3, 8, 14, 17) (0, 9, 6, 13)\n",
      "(0, 9, 6, 13) (3, 8, 14, 17)\n",
      "[(0, 9), (0, 7), (0, 6), (0, 1), (1, 8), (1, 7), (1, 5), (1, 4), (1, 3), (1, 2), (2, 9), (2, 8), (2, 7), (2, 6), (2, 4), (2, 3), (3, 7), (3, 6), (4, 9), (4, 8), (4, 7)]\n",
      "4 6\n",
      "(3, 8, 14, 17) (0, 7, 0, 18)\n",
      "(0, 7, 0, 18) (3, 8, 14, 17)\n",
      "[(0, 9), (0, 7), (0, 6), (0, 1), (1, 8), (1, 7), (1, 5), (1, 4), (1, 3), (1, 2), (2, 9), (2, 8), (2, 7), (2, 6), (2, 4), (2, 3), (3, 7), (3, 6), (4, 9), (4, 8), (4, 7), (4, 6)]\n",
      "4 5\n",
      "(3, 8, 14, 17) (0, 1, 3, 14)\n",
      "(0, 1, 3, 14) (3, 8, 14, 17)\n",
      "[(0, 9), (0, 7), (0, 6), (0, 1), (1, 8), (1, 7), (1, 5), (1, 4), (1, 3), (1, 2), (2, 9), (2, 8), (2, 7), (2, 6), (2, 4), (2, 3), (3, 7), (3, 6), (4, 9), (4, 8), (4, 7), (4, 6)]\n",
      "5 9\n",
      "(0, 1, 3, 14) (5, 7, 17, 18)\n",
      "[(0, 9), (0, 7), (0, 6), (0, 1), (1, 8), (1, 7), (1, 5), (1, 4), (1, 3), (1, 2), (2, 9), (2, 8), (2, 7), (2, 6), (2, 4), (2, 3), (3, 7), (3, 6), (4, 9), (4, 8), (4, 7), (4, 6), (5, 9)]\n",
      "5 8\n",
      "(0, 1, 3, 14) (7, 9, 7, 20)\n",
      "[(0, 9), (0, 7), (0, 6), (0, 1), (1, 8), (1, 7), (1, 5), (1, 4), (1, 3), (1, 2), (2, 9), (2, 8), (2, 7), (2, 6), (2, 4), (2, 3), (3, 7), (3, 6), (4, 9), (4, 8), (4, 7), (4, 6), (5, 9)]\n",
      "5 7\n",
      "(0, 1, 3, 14) (0, 9, 6, 13)\n",
      "[(0, 9), (0, 7), (0, 6), (0, 1), (1, 8), (1, 7), (1, 5), (1, 4), (1, 3), (1, 2), (2, 9), (2, 8), (2, 7), (2, 6), (2, 4), (2, 3), (3, 7), (3, 6), (4, 9), (4, 8), (4, 7), (4, 6), (5, 9), (5, 7)]\n",
      "5 6\n",
      "(0, 1, 3, 14) (0, 7, 0, 18)\n",
      "[(0, 9), (0, 7), (0, 6), (0, 1), (1, 8), (1, 7), (1, 5), (1, 4), (1, 3), (1, 2), (2, 9), (2, 8), (2, 7), (2, 6), (2, 4), (2, 3), (3, 7), (3, 6), (4, 9), (4, 8), (4, 7), (4, 6), (5, 9), (5, 7), (5, 6)]\n",
      "6 9\n",
      "(0, 7, 0, 18) (5, 7, 17, 18)\n",
      "[(0, 9), (0, 7), (0, 6), (0, 1), (1, 8), (1, 7), (1, 5), (1, 4), (1, 3), (1, 2), (2, 9), (2, 8), (2, 7), (2, 6), (2, 4), (2, 3), (3, 7), (3, 6), (4, 9), (4, 8), (4, 7), (4, 6), (5, 9), (5, 7), (5, 6), (6, 9)]\n",
      "6 8\n",
      "(0, 7, 0, 18) (7, 9, 7, 20)\n",
      "[(0, 9), (0, 7), (0, 6), (0, 1), (1, 8), (1, 7), (1, 5), (1, 4), (1, 3), (1, 2), (2, 9), (2, 8), (2, 7), (2, 6), (2, 4), (2, 3), (3, 7), (3, 6), (4, 9), (4, 8), (4, 7), (4, 6), (5, 9), (5, 7), (5, 6), (6, 9)]\n",
      "6 7\n",
      "(0, 7, 0, 18) (0, 9, 6, 13)\n",
      "[(0, 9), (0, 7), (0, 6), (0, 1), (1, 8), (1, 7), (1, 5), (1, 4), (1, 3), (1, 2), (2, 9), (2, 8), (2, 7), (2, 6), (2, 4), (2, 3), (3, 7), (3, 6), (4, 9), (4, 8), (4, 7), (4, 6), (5, 9), (5, 7), (5, 6), (6, 9), (6, 7)]\n",
      "7 9\n",
      "(0, 9, 6, 13) (5, 7, 17, 18)\n",
      "[(0, 9), (0, 7), (0, 6), (0, 1), (1, 8), (1, 7), (1, 5), (1, 4), (1, 3), (1, 2), (2, 9), (2, 8), (2, 7), (2, 6), (2, 4), (2, 3), (3, 7), (3, 6), (4, 9), (4, 8), (4, 7), (4, 6), (5, 9), (5, 7), (5, 6), (6, 9), (6, 7), (7, 9)]\n",
      "7 8\n",
      "(0, 9, 6, 13) (7, 9, 7, 20)\n",
      "[(0, 9), (0, 7), (0, 6), (0, 1), (1, 8), (1, 7), (1, 5), (1, 4), (1, 3), (1, 2), (2, 9), (2, 8), (2, 7), (2, 6), (2, 4), (2, 3), (3, 7), (3, 6), (4, 9), (4, 8), (4, 7), (4, 6), (5, 9), (5, 7), (5, 6), (6, 9), (6, 7), (7, 9), (7, 8)]\n",
      "8 9\n",
      "(7, 9, 7, 20) (5, 7, 17, 18)\n",
      "(5, 7, 17, 18) (7, 9, 7, 20)\n",
      "[(0, 9), (0, 7), (0, 6), (0, 1), (1, 8), (1, 7), (1, 5), (1, 4), (1, 3), (1, 2), (2, 9), (2, 8), (2, 7), (2, 6), (2, 4), (2, 3), (3, 7), (3, 6), (4, 9), (4, 8), (4, 7), (4, 6), (5, 9), (5, 7), (5, 6), (6, 9), (6, 7), (7, 9), (7, 8)]\n"
     ]
    }
   ],
   "source": [
    "# Les nodes sont dans V\n",
    "V = requests_list\n",
    "E = []\n",
    "\n",
    "for i in range(R):\n",
    "    for j in range(R-1-i):\n",
    "        V1 = V[i]\n",
    "        V2 = V[R-j-1]\n",
    "        print(i,R-j-1)  # On les a bien tous\n",
    "        print(V1,V2)\n",
    "        \n",
    "        # On regarde qui est le plus à gauche, on renomme si besoin\n",
    "        if V1[0] > V2[0]:\n",
    "            a = V2\n",
    "            V2 = V1\n",
    "            V1 = a\n",
    "            print(V1,V2)\n",
    "        if V1[2] < V2[3]:\n",
    "            if V1[3] < V2[2]:\n",
    "                # Add V1V2 au graphe\n",
    "                E.append((i,R-j-1))\n",
    "            elif V1[1] > V2[0]:\n",
    "                # Add V1V2 au graphe\n",
    "                E.append((i,R-j-1))\n",
    "        print(E)"
   ]
  },
  {
   "cell_type": "code",
   "execution_count": 91,
   "metadata": {},
   "outputs": [
    {
     "name": "stdout",
     "output_type": "stream",
     "text": [
      "[(4, 5, 4, 7), (7, 10, 15, 19), (1, 9, 12, 16), (6, 7, 0, 13), (3, 8, 14, 17), (0, 1, 3, 14), (0, 7, 0, 18), (0, 9, 6, 13), (7, 9, 7, 20), (5, 7, 17, 18)]\n",
      "[(0, 9), (0, 7), (0, 6), (0, 1), (1, 8), (1, 7), (1, 5), (1, 4), (1, 3), (1, 2), (2, 9), (2, 8), (2, 7), (2, 6), (2, 4), (2, 3), (3, 7), (3, 6), (4, 9), (4, 8), (4, 7), (4, 6), (5, 9), (5, 7), (5, 6), (6, 9), (6, 7), (7, 9), (7, 8)]\n"
     ]
    }
   ],
   "source": [
    "print(V)\n",
    "print(E)"
   ]
  },
  {
   "cell_type": "markdown",
   "metadata": {},
   "source": [
    "# Crique Resolution\n",
    "\n",
    "Avec Gurobi ?!"
   ]
  },
  {
   "cell_type": "code",
   "execution_count": 104,
   "metadata": {},
   "outputs": [
    {
     "name": "stdout",
     "output_type": "stream",
     "text": [
      "5\n"
     ]
    }
   ],
   "source": [
    "# CODE IDEA TO FIND MAX SIZE OF A CLIQUE\n",
    "\n",
    "##### MANQUE\n",
    "\n",
    "#  garder le numéro des vertices en tête\n",
    "\n",
    "# Python3 implementation of the approach \n",
    "MAX = R; \n",
    "n = 0; \n",
    "  \n",
    "# Stores the vertices \n",
    "store = [0] * MAX; \n",
    "  \n",
    "# Graph \n",
    "graph = [[0 for i in range(MAX)] for j in range(MAX)]; \n",
    "# Degree of the vertices \n",
    "d = [0] * MAX; \n",
    "\n",
    "# Function to check if the given set of \n",
    "# vertices in store array is a clique or not \n",
    "def is_clique(b): \n",
    "  \n",
    "    # Run a loop for all set of edges \n",
    "    for i in range(1, b): \n",
    "        for j in range(i + 1, b): \n",
    "  \n",
    "            # If any edge is missing \n",
    "            if (graph[store[i]][store[j]] == 0): \n",
    "                return False; \n",
    "      \n",
    "    return True; \n",
    "  \n",
    "# Function to find all the sizes \n",
    "# of maximal cliques \n",
    "def maxCliques(i, l): \n",
    "  \n",
    "    # Maximal clique size \n",
    "    max_ = 0; \n",
    "  \n",
    "    # Check if any vertices from i+1 \n",
    "    # can be inserted \n",
    "    for j in range(i + 1, n + 1): \n",
    "  \n",
    "        # Add the vertex to store \n",
    "        store[l] = j; \n",
    "  \n",
    "        # If the graph is not a clique of size k then \n",
    "        # it cannot be a clique by adding another edge \n",
    "        if (is_clique(l + 1)): \n",
    "  \n",
    "            # Update max \n",
    "            max_ = max(max_, l); \n",
    "  \n",
    "            # Check if another edge can be added \n",
    "            max_ = max(max_, maxCliques(j, l + 1)); \n",
    "          \n",
    "    return max_; \n",
    "      \n",
    "# HERE WE ENTER OUR GRAPH WITH THE EDGES\n",
    "if __name__ == '__main__': \n",
    "    edges = E; \n",
    "    size = len(edges); \n",
    "    n = R-1; \n",
    "  \n",
    "    for i in range(size): \n",
    "        # On remplit la matrice\n",
    "        graph[edges[i][0]][edges[i][1]] = 1; \n",
    "        graph[edges[i][1]][edges[i][0]] = 1; \n",
    "        d[edges[i][0]] += 1; \n",
    "        d[edges[i][1]] += 1; \n",
    "      \n",
    "    print(maxCliques(0, 1));"
   ]
  },
  {
   "cell_type": "code",
   "execution_count": null,
   "metadata": {},
   "outputs": [],
   "source": []
  }
 ],
 "metadata": {
  "kernelspec": {
   "display_name": "Python 3",
   "language": "python",
   "name": "python3"
  },
  "language_info": {
   "codemirror_mode": {
    "name": "ipython",
    "version": 3
   },
   "file_extension": ".py",
   "mimetype": "text/x-python",
   "name": "python",
   "nbconvert_exporter": "python",
   "pygments_lexer": "ipython3",
   "version": "3.7.4"
  }
 },
 "nbformat": 4,
 "nbformat_minor": 2
}

{
 "cells": [
  {
   "cell_type": "markdown",
   "metadata": {},
   "source": [
    "# First Task"
   ]
  },
  {
   "cell_type": "markdown",
   "metadata": {},
   "source": [
    "T and set of stations D\n",
    "\n",
    "Entry: set of requests R (d1, d2, t1, t2)\n",
    "\n",
    "Output: stair S in R maximizing the clique"
   ]
  },
  {
   "cell_type": "markdown",
   "metadata": {},
   "source": [
    "### Tasks\n",
    "\n",
    "1) générer le set R de requests\n",
    "\n",
    "2) plot les rectangles\n",
    "\n",
    "3) résoudre le clique\n",
    "\n",
    "4) afficher le stair"
   ]
  },
  {
   "cell_type": "code",
   "execution_count": 1,
   "metadata": {},
   "outputs": [],
   "source": [
    "# Time limit\n",
    "T = 20\n",
    "\n",
    "# Stations number\n",
    "D = 10\n",
    "\n",
    "# Requests number\n",
    "R = 10"
   ]
  },
  {
   "cell_type": "markdown",
   "metadata": {},
   "source": [
    "# Generate random Requests"
   ]
  },
  {
   "cell_type": "code",
   "execution_count": 2,
   "metadata": {},
   "outputs": [
    {
     "name": "stdout",
     "output_type": "stream",
     "text": [
      "[(4, 5, 4, 7), (7, 10, 15, 19), (1, 9, 12, 16), (6, 7, 0, 13), (3, 8, 14, 17), (0, 1, 3, 14), (0, 7, 0, 18), (0, 9, 6, 13), (7, 9, 7, 20), (5, 7, 17, 18)]\n"
     ]
    }
   ],
   "source": [
    "from random import seed\n",
    "from random import randint\n",
    "\n",
    "# seed random number generator\n",
    "seed(1)\n",
    "\n",
    "requests_list = []\n",
    "\n",
    "for i in range(R):\n",
    "    t1 = randint(0,T-1)\n",
    "    t2 = randint(t1+1,T)\n",
    "    d1 = randint(0,D-1)\n",
    "    d2 = randint(d1+1,D)\n",
    "    r = (d1,d2,t1,t2)\n",
    "    requests_list.append(r)\n",
    "print(requests_list)"
   ]
  },
  {
   "cell_type": "markdown",
   "metadata": {},
   "source": [
    "# Plot the rectangles\n",
    "\n",
    "(év. les arrondir pour + de visibilité)"
   ]
  },
  {
   "cell_type": "code",
   "execution_count": 3,
   "metadata": {},
   "outputs": [
    {
     "data": {
      "text/plain": [
       "<Figure size 1000x600 with 1 Axes>"
      ]
     },
     "metadata": {},
     "output_type": "display_data"
    }
   ],
   "source": [
    "from pylab import *\n",
    "import matplotlib.pyplot as plt\n",
    "import matplotlib.patches as patches\n",
    "\n",
    "\n",
    "# Create the window itself\n",
    "\n",
    "fig, ax = plt.subplots(figsize=(10, 6))\n",
    "\n",
    "xlim(0,10)\n",
    "ylim(0,20)\n",
    "\n",
    "# Create the rectangles \"patchs\"\n",
    "for i in range(R):\n",
    "    a = requests_list[i]\n",
    "    rect = patches.Rectangle((a[0],a[2]),a[1]-a[0],a[3]-a[2], linewidth=1, edgecolor='r', facecolor='none')\n",
    "\n",
    "# Add the rectangle to the Axes\n",
    "    ax.add_patch(rect)\n",
    " \n",
    "plt.show()"
   ]
  },
  {
   "cell_type": "markdown",
   "metadata": {},
   "source": [
    "# Clique creation in the graph\n",
    "\n",
    "r et s sont COMPATIBLES si r_left < s_left et r_bot < s_top\n",
    "\n",
    "                    et si r_top > s_bot si s_left < r_right\n",
    "                    \n",
    "dans requests_list, ça donne (d1,d2,t1,t2) = (r_left, r_right, r_bot, r_top)\n",
    "\n",
    "On stocke dans E les paires \"compatibles\""
   ]
  },
  {
   "cell_type": "code",
   "execution_count": 4,
   "metadata": {},
   "outputs": [
    {
     "name": "stdout",
     "output_type": "stream",
     "text": [
      "0 9\n",
      "(4, 5, 4, 7) (5, 7, 17, 18)\n",
      "[(0, 9)]\n",
      "0 8\n",
      "(4, 5, 4, 7) (7, 9, 7, 20)\n",
      "[(0, 9), (0, 8)]\n",
      "0 7\n",
      "(4, 5, 4, 7) (0, 9, 6, 13)\n",
      "(0, 9, 6, 13) (4, 5, 4, 7)\n",
      "[(0, 9), (0, 8), (0, 7)]\n",
      "0 6\n",
      "(4, 5, 4, 7) (0, 7, 0, 18)\n",
      "(0, 7, 0, 18) (4, 5, 4, 7)\n",
      "[(0, 9), (0, 8), (0, 7), (0, 6)]\n",
      "0 5\n",
      "(4, 5, 4, 7) (0, 1, 3, 14)\n",
      "(0, 1, 3, 14) (4, 5, 4, 7)\n",
      "[(0, 9), (0, 8), (0, 7), (0, 6), (0, 5)]\n",
      "0 4\n",
      "(4, 5, 4, 7) (3, 8, 14, 17)\n",
      "(3, 8, 14, 17) (4, 5, 4, 7)\n",
      "[(0, 9), (0, 8), (0, 7), (0, 6), (0, 5)]\n",
      "0 3\n",
      "(4, 5, 4, 7) (6, 7, 0, 13)\n",
      "[(0, 9), (0, 8), (0, 7), (0, 6), (0, 5), (0, 3)]\n",
      "0 2\n",
      "(4, 5, 4, 7) (1, 9, 12, 16)\n",
      "(1, 9, 12, 16) (4, 5, 4, 7)\n",
      "[(0, 9), (0, 8), (0, 7), (0, 6), (0, 5), (0, 3)]\n",
      "0 1\n",
      "(4, 5, 4, 7) (7, 10, 15, 19)\n",
      "[(0, 9), (0, 8), (0, 7), (0, 6), (0, 5), (0, 3), (0, 1)]\n",
      "1 9\n",
      "(7, 10, 15, 19) (5, 7, 17, 18)\n",
      "(5, 7, 17, 18) (7, 10, 15, 19)\n",
      "[(0, 9), (0, 8), (0, 7), (0, 6), (0, 5), (0, 3), (0, 1), (1, 9)]\n",
      "1 8\n",
      "(7, 10, 15, 19) (7, 9, 7, 20)\n",
      "[(0, 9), (0, 8), (0, 7), (0, 6), (0, 5), (0, 3), (0, 1), (1, 9), (1, 8)]\n",
      "1 7\n",
      "(7, 10, 15, 19) (0, 9, 6, 13)\n",
      "(0, 9, 6, 13) (7, 10, 15, 19)\n",
      "[(0, 9), (0, 8), (0, 7), (0, 6), (0, 5), (0, 3), (0, 1), (1, 9), (1, 8)]\n",
      "1 6\n",
      "(7, 10, 15, 19) (0, 7, 0, 18)\n",
      "(0, 7, 0, 18) (7, 10, 15, 19)\n",
      "[(0, 9), (0, 8), (0, 7), (0, 6), (0, 5), (0, 3), (0, 1), (1, 9), (1, 8), (1, 6)]\n",
      "1 5\n",
      "(7, 10, 15, 19) (0, 1, 3, 14)\n",
      "(0, 1, 3, 14) (7, 10, 15, 19)\n",
      "[(0, 9), (0, 8), (0, 7), (0, 6), (0, 5), (0, 3), (0, 1), (1, 9), (1, 8), (1, 6), (1, 5)]\n",
      "1 4\n",
      "(7, 10, 15, 19) (3, 8, 14, 17)\n",
      "(3, 8, 14, 17) (7, 10, 15, 19)\n",
      "[(0, 9), (0, 8), (0, 7), (0, 6), (0, 5), (0, 3), (0, 1), (1, 9), (1, 8), (1, 6), (1, 5), (1, 4)]\n",
      "1 3\n",
      "(7, 10, 15, 19) (6, 7, 0, 13)\n",
      "(6, 7, 0, 13) (7, 10, 15, 19)\n",
      "[(0, 9), (0, 8), (0, 7), (0, 6), (0, 5), (0, 3), (0, 1), (1, 9), (1, 8), (1, 6), (1, 5), (1, 4), (1, 3)]\n",
      "1 2\n",
      "(7, 10, 15, 19) (1, 9, 12, 16)\n",
      "(1, 9, 12, 16) (7, 10, 15, 19)\n",
      "[(0, 9), (0, 8), (0, 7), (0, 6), (0, 5), (0, 3), (0, 1), (1, 9), (1, 8), (1, 6), (1, 5), (1, 4), (1, 3), (1, 2)]\n",
      "2 9\n",
      "(1, 9, 12, 16) (5, 7, 17, 18)\n",
      "[(0, 9), (0, 8), (0, 7), (0, 6), (0, 5), (0, 3), (0, 1), (1, 9), (1, 8), (1, 6), (1, 5), (1, 4), (1, 3), (1, 2)]\n",
      "2 8\n",
      "(1, 9, 12, 16) (7, 9, 7, 20)\n",
      "[(0, 9), (0, 8), (0, 7), (0, 6), (0, 5), (0, 3), (0, 1), (1, 9), (1, 8), (1, 6), (1, 5), (1, 4), (1, 3), (1, 2), (2, 8)]\n",
      "2 7\n",
      "(1, 9, 12, 16) (0, 9, 6, 13)\n",
      "(0, 9, 6, 13) (1, 9, 12, 16)\n",
      "[(0, 9), (0, 8), (0, 7), (0, 6), (0, 5), (0, 3), (0, 1), (1, 9), (1, 8), (1, 6), (1, 5), (1, 4), (1, 3), (1, 2), (2, 8), (2, 7)]\n",
      "2 6\n",
      "(1, 9, 12, 16) (0, 7, 0, 18)\n",
      "(0, 7, 0, 18) (1, 9, 12, 16)\n",
      "[(0, 9), (0, 8), (0, 7), (0, 6), (0, 5), (0, 3), (0, 1), (1, 9), (1, 8), (1, 6), (1, 5), (1, 4), (1, 3), (1, 2), (2, 8), (2, 7), (2, 6)]\n",
      "2 5\n",
      "(1, 9, 12, 16) (0, 1, 3, 14)\n",
      "(0, 1, 3, 14) (1, 9, 12, 16)\n",
      "[(0, 9), (0, 8), (0, 7), (0, 6), (0, 5), (0, 3), (0, 1), (1, 9), (1, 8), (1, 6), (1, 5), (1, 4), (1, 3), (1, 2), (2, 8), (2, 7), (2, 6), (2, 5)]\n",
      "2 4\n",
      "(1, 9, 12, 16) (3, 8, 14, 17)\n",
      "[(0, 9), (0, 8), (0, 7), (0, 6), (0, 5), (0, 3), (0, 1), (1, 9), (1, 8), (1, 6), (1, 5), (1, 4), (1, 3), (1, 2), (2, 8), (2, 7), (2, 6), (2, 5), (2, 4)]\n",
      "2 3\n",
      "(1, 9, 12, 16) (6, 7, 0, 13)\n",
      "[(0, 9), (0, 8), (0, 7), (0, 6), (0, 5), (0, 3), (0, 1), (1, 9), (1, 8), (1, 6), (1, 5), (1, 4), (1, 3), (1, 2), (2, 8), (2, 7), (2, 6), (2, 5), (2, 4), (2, 3)]\n",
      "3 9\n",
      "(6, 7, 0, 13) (5, 7, 17, 18)\n",
      "(5, 7, 17, 18) (6, 7, 0, 13)\n",
      "[(0, 9), (0, 8), (0, 7), (0, 6), (0, 5), (0, 3), (0, 1), (1, 9), (1, 8), (1, 6), (1, 5), (1, 4), (1, 3), (1, 2), (2, 8), (2, 7), (2, 6), (2, 5), (2, 4), (2, 3)]\n",
      "3 8\n",
      "(6, 7, 0, 13) (7, 9, 7, 20)\n",
      "[(0, 9), (0, 8), (0, 7), (0, 6), (0, 5), (0, 3), (0, 1), (1, 9), (1, 8), (1, 6), (1, 5), (1, 4), (1, 3), (1, 2), (2, 8), (2, 7), (2, 6), (2, 5), (2, 4), (2, 3), (3, 8)]\n",
      "3 7\n",
      "(6, 7, 0, 13) (0, 9, 6, 13)\n",
      "(0, 9, 6, 13) (6, 7, 0, 13)\n",
      "[(0, 9), (0, 8), (0, 7), (0, 6), (0, 5), (0, 3), (0, 1), (1, 9), (1, 8), (1, 6), (1, 5), (1, 4), (1, 3), (1, 2), (2, 8), (2, 7), (2, 6), (2, 5), (2, 4), (2, 3), (3, 8), (3, 7)]\n",
      "3 6\n",
      "(6, 7, 0, 13) (0, 7, 0, 18)\n",
      "(0, 7, 0, 18) (6, 7, 0, 13)\n",
      "[(0, 9), (0, 8), (0, 7), (0, 6), (0, 5), (0, 3), (0, 1), (1, 9), (1, 8), (1, 6), (1, 5), (1, 4), (1, 3), (1, 2), (2, 8), (2, 7), (2, 6), (2, 5), (2, 4), (2, 3), (3, 8), (3, 7), (3, 6)]\n",
      "3 5\n",
      "(6, 7, 0, 13) (0, 1, 3, 14)\n",
      "(0, 1, 3, 14) (6, 7, 0, 13)\n",
      "[(0, 9), (0, 8), (0, 7), (0, 6), (0, 5), (0, 3), (0, 1), (1, 9), (1, 8), (1, 6), (1, 5), (1, 4), (1, 3), (1, 2), (2, 8), (2, 7), (2, 6), (2, 5), (2, 4), (2, 3), (3, 8), (3, 7), (3, 6), (3, 5)]\n",
      "3 4\n",
      "(6, 7, 0, 13) (3, 8, 14, 17)\n",
      "(3, 8, 14, 17) (6, 7, 0, 13)\n",
      "[(0, 9), (0, 8), (0, 7), (0, 6), (0, 5), (0, 3), (0, 1), (1, 9), (1, 8), (1, 6), (1, 5), (1, 4), (1, 3), (1, 2), (2, 8), (2, 7), (2, 6), (2, 5), (2, 4), (2, 3), (3, 8), (3, 7), (3, 6), (3, 5)]\n",
      "4 9\n",
      "(3, 8, 14, 17) (5, 7, 17, 18)\n",
      "[(0, 9), (0, 8), (0, 7), (0, 6), (0, 5), (0, 3), (0, 1), (1, 9), (1, 8), (1, 6), (1, 5), (1, 4), (1, 3), (1, 2), (2, 8), (2, 7), (2, 6), (2, 5), (2, 4), (2, 3), (3, 8), (3, 7), (3, 6), (3, 5), (4, 9)]\n",
      "4 8\n",
      "(3, 8, 14, 17) (7, 9, 7, 20)\n",
      "[(0, 9), (0, 8), (0, 7), (0, 6), (0, 5), (0, 3), (0, 1), (1, 9), (1, 8), (1, 6), (1, 5), (1, 4), (1, 3), (1, 2), (2, 8), (2, 7), (2, 6), (2, 5), (2, 4), (2, 3), (3, 8), (3, 7), (3, 6), (3, 5), (4, 9), (4, 8)]\n",
      "4 7\n",
      "(3, 8, 14, 17) (0, 9, 6, 13)\n",
      "(0, 9, 6, 13) (3, 8, 14, 17)\n",
      "[(0, 9), (0, 8), (0, 7), (0, 6), (0, 5), (0, 3), (0, 1), (1, 9), (1, 8), (1, 6), (1, 5), (1, 4), (1, 3), (1, 2), (2, 8), (2, 7), (2, 6), (2, 5), (2, 4), (2, 3), (3, 8), (3, 7), (3, 6), (3, 5), (4, 9), (4, 8)]\n",
      "4 6\n",
      "(3, 8, 14, 17) (0, 7, 0, 18)\n",
      "(0, 7, 0, 18) (3, 8, 14, 17)\n",
      "[(0, 9), (0, 8), (0, 7), (0, 6), (0, 5), (0, 3), (0, 1), (1, 9), (1, 8), (1, 6), (1, 5), (1, 4), (1, 3), (1, 2), (2, 8), (2, 7), (2, 6), (2, 5), (2, 4), (2, 3), (3, 8), (3, 7), (3, 6), (3, 5), (4, 9), (4, 8), (4, 6)]\n",
      "4 5\n",
      "(3, 8, 14, 17) (0, 1, 3, 14)\n",
      "(0, 1, 3, 14) (3, 8, 14, 17)\n",
      "[(0, 9), (0, 8), (0, 7), (0, 6), (0, 5), (0, 3), (0, 1), (1, 9), (1, 8), (1, 6), (1, 5), (1, 4), (1, 3), (1, 2), (2, 8), (2, 7), (2, 6), (2, 5), (2, 4), (2, 3), (3, 8), (3, 7), (3, 6), (3, 5), (4, 9), (4, 8), (4, 6), (4, 5)]\n",
      "5 9\n",
      "(0, 1, 3, 14) (5, 7, 17, 18)\n",
      "[(0, 9), (0, 8), (0, 7), (0, 6), (0, 5), (0, 3), (0, 1), (1, 9), (1, 8), (1, 6), (1, 5), (1, 4), (1, 3), (1, 2), (2, 8), (2, 7), (2, 6), (2, 5), (2, 4), (2, 3), (3, 8), (3, 7), (3, 6), (3, 5), (4, 9), (4, 8), (4, 6), (4, 5), (5, 9)]\n",
      "5 8\n",
      "(0, 1, 3, 14) (7, 9, 7, 20)\n",
      "[(0, 9), (0, 8), (0, 7), (0, 6), (0, 5), (0, 3), (0, 1), (1, 9), (1, 8), (1, 6), (1, 5), (1, 4), (1, 3), (1, 2), (2, 8), (2, 7), (2, 6), (2, 5), (2, 4), (2, 3), (3, 8), (3, 7), (3, 6), (3, 5), (4, 9), (4, 8), (4, 6), (4, 5), (5, 9), (5, 8)]\n",
      "5 7\n",
      "(0, 1, 3, 14) (0, 9, 6, 13)\n",
      "[(0, 9), (0, 8), (0, 7), (0, 6), (0, 5), (0, 3), (0, 1), (1, 9), (1, 8), (1, 6), (1, 5), (1, 4), (1, 3), (1, 2), (2, 8), (2, 7), (2, 6), (2, 5), (2, 4), (2, 3), (3, 8), (3, 7), (3, 6), (3, 5), (4, 9), (4, 8), (4, 6), (4, 5), (5, 9), (5, 8), (5, 7)]\n",
      "5 6\n",
      "(0, 1, 3, 14) (0, 7, 0, 18)\n",
      "[(0, 9), (0, 8), (0, 7), (0, 6), (0, 5), (0, 3), (0, 1), (1, 9), (1, 8), (1, 6), (1, 5), (1, 4), (1, 3), (1, 2), (2, 8), (2, 7), (2, 6), (2, 5), (2, 4), (2, 3), (3, 8), (3, 7), (3, 6), (3, 5), (4, 9), (4, 8), (4, 6), (4, 5), (5, 9), (5, 8), (5, 7), (5, 6)]\n",
      "6 9\n",
      "(0, 7, 0, 18) (5, 7, 17, 18)\n",
      "[(0, 9), (0, 8), (0, 7), (0, 6), (0, 5), (0, 3), (0, 1), (1, 9), (1, 8), (1, 6), (1, 5), (1, 4), (1, 3), (1, 2), (2, 8), (2, 7), (2, 6), (2, 5), (2, 4), (2, 3), (3, 8), (3, 7), (3, 6), (3, 5), (4, 9), (4, 8), (4, 6), (4, 5), (5, 9), (5, 8), (5, 7), (5, 6), (6, 9)]\n",
      "6 8\n",
      "(0, 7, 0, 18) (7, 9, 7, 20)\n",
      "[(0, 9), (0, 8), (0, 7), (0, 6), (0, 5), (0, 3), (0, 1), (1, 9), (1, 8), (1, 6), (1, 5), (1, 4), (1, 3), (1, 2), (2, 8), (2, 7), (2, 6), (2, 5), (2, 4), (2, 3), (3, 8), (3, 7), (3, 6), (3, 5), (4, 9), (4, 8), (4, 6), (4, 5), (5, 9), (5, 8), (5, 7), (5, 6), (6, 9), (6, 8)]\n",
      "6 7\n",
      "(0, 7, 0, 18) (0, 9, 6, 13)\n",
      "[(0, 9), (0, 8), (0, 7), (0, 6), (0, 5), (0, 3), (0, 1), (1, 9), (1, 8), (1, 6), (1, 5), (1, 4), (1, 3), (1, 2), (2, 8), (2, 7), (2, 6), (2, 5), (2, 4), (2, 3), (3, 8), (3, 7), (3, 6), (3, 5), (4, 9), (4, 8), (4, 6), (4, 5), (5, 9), (5, 8), (5, 7), (5, 6), (6, 9), (6, 8), (6, 7)]\n",
      "7 9\n",
      "(0, 9, 6, 13) (5, 7, 17, 18)\n",
      "[(0, 9), (0, 8), (0, 7), (0, 6), (0, 5), (0, 3), (0, 1), (1, 9), (1, 8), (1, 6), (1, 5), (1, 4), (1, 3), (1, 2), (2, 8), (2, 7), (2, 6), (2, 5), (2, 4), (2, 3), (3, 8), (3, 7), (3, 6), (3, 5), (4, 9), (4, 8), (4, 6), (4, 5), (5, 9), (5, 8), (5, 7), (5, 6), (6, 9), (6, 8), (6, 7)]\n",
      "7 8\n",
      "(0, 9, 6, 13) (7, 9, 7, 20)\n",
      "[(0, 9), (0, 8), (0, 7), (0, 6), (0, 5), (0, 3), (0, 1), (1, 9), (1, 8), (1, 6), (1, 5), (1, 4), (1, 3), (1, 2), (2, 8), (2, 7), (2, 6), (2, 5), (2, 4), (2, 3), (3, 8), (3, 7), (3, 6), (3, 5), (4, 9), (4, 8), (4, 6), (4, 5), (5, 9), (5, 8), (5, 7), (5, 6), (6, 9), (6, 8), (6, 7), (7, 8)]\n",
      "8 9\n",
      "(7, 9, 7, 20) (5, 7, 17, 18)\n",
      "(5, 7, 17, 18) (7, 9, 7, 20)\n",
      "[(0, 9), (0, 8), (0, 7), (0, 6), (0, 5), (0, 3), (0, 1), (1, 9), (1, 8), (1, 6), (1, 5), (1, 4), (1, 3), (1, 2), (2, 8), (2, 7), (2, 6), (2, 5), (2, 4), (2, 3), (3, 8), (3, 7), (3, 6), (3, 5), (4, 9), (4, 8), (4, 6), (4, 5), (5, 9), (5, 8), (5, 7), (5, 6), (6, 9), (6, 8), (6, 7), (7, 8), (8, 9)]\n"
     ]
    }
   ],
   "source": [
    "# Les nodes sont dans V\n",
    "V = requests_list\n",
    "E = []\n",
    "\n",
    "for i in range(R):\n",
    "    for j in range(R-1-i):\n",
    "        V1 = V[i]\n",
    "        V2 = V[R-j-1]\n",
    "        print(i,R-j-1)  # On les a bien tous\n",
    "        print(V1,V2)\n",
    "        \n",
    "        # On regarde qui est le plus à gauche, on renomme si besoin\n",
    "        if V1[0] > V2[0]:\n",
    "            a = V2\n",
    "            V2 = V1\n",
    "            V1 = a\n",
    "            print(V1,V2)\n",
    "        if V1[2] < V2[3]:                    # 1) Si celui à droite est trop bas, NOT COMPATIBLE\n",
    "            if V1[3] < V2[2]:                # 2) Si il est complètement plus haut, il faut checker si il est aussi assez à droite\n",
    "                if V1[1] <= V2[0]:\n",
    "                # Add V1V2 au graphe         # Donc, s'il est complètement au dessus il nous faut aussi V1[1] < V2[0]\n",
    "                    E.append((i,R-j-1))\n",
    "            elif V1[3] >= V2[2]:             # Si celui à droite n'est pas trop haut, on est bon de toute manière\n",
    "                # Add V1V2 au graphe\n",
    "                E.append((i,R-j-1))\n",
    "        print(E)"
   ]
  },
  {
   "cell_type": "code",
   "execution_count": 5,
   "metadata": {},
   "outputs": [
    {
     "name": "stdout",
     "output_type": "stream",
     "text": [
      "[(4, 5, 4, 7), (7, 10, 15, 19), (1, 9, 12, 16), (6, 7, 0, 13), (3, 8, 14, 17), (0, 1, 3, 14), (0, 7, 0, 18), (0, 9, 6, 13), (7, 9, 7, 20), (5, 7, 17, 18)]\n",
      "[(0, 9), (0, 8), (0, 7), (0, 6), (0, 5), (0, 3), (0, 1), (1, 9), (1, 8), (1, 6), (1, 5), (1, 4), (1, 3), (1, 2), (2, 8), (2, 7), (2, 6), (2, 5), (2, 4), (2, 3), (3, 8), (3, 7), (3, 6), (3, 5), (4, 9), (4, 8), (4, 6), (4, 5), (5, 9), (5, 8), (5, 7), (5, 6), (6, 9), (6, 8), (6, 7), (7, 8), (8, 9)]\n"
     ]
    }
   ],
   "source": [
    "print(V)\n",
    "print(E)"
   ]
  },
  {
   "cell_type": "markdown",
   "metadata": {},
   "source": [
    "# Crique Resolution\n",
    "\n",
    "Avec Gurobi ?!"
   ]
  },
  {
   "cell_type": "code",
   "execution_count": 6,
   "metadata": {},
   "outputs": [
    {
     "name": "stdout",
     "output_type": "stream",
     "text": [
      "6\n"
     ]
    }
   ],
   "source": [
    "# CODE IDEA TO FIND MAX SIZE OF A CLIQUE\n",
    "# Pas très utile, donne uniquement la taille du clique maximum...\n",
    "\n",
    "##### MANQUE\n",
    "\n",
    "#  garder le numéro des vertices en tête\n",
    "\n",
    "# Python3 implementation of the approach \n",
    "MAX = R; \n",
    "n = 0; \n",
    "  \n",
    "# Stores the vertices \n",
    "store = [0] * MAX; \n",
    "  \n",
    "# Graph \n",
    "graph = [[0 for i in range(MAX)] for j in range(MAX)]; \n",
    "# Degree of the vertices \n",
    "d = [0] * MAX; \n",
    "\n",
    "# Function to check if the given set of \n",
    "# vertices in store array is a clique or not \n",
    "def is_clique(b): \n",
    "  \n",
    "    # Run a loop for all set of edges \n",
    "    for i in range(1, b): \n",
    "        for j in range(i + 1, b): \n",
    "  \n",
    "            # If any edge is missing \n",
    "            if (graph[store[i]][store[j]] == 0): \n",
    "                return False; \n",
    "      \n",
    "    return True; \n",
    "  \n",
    "# Function to find all the sizes \n",
    "# of maximal cliques \n",
    "def maxCliques(i, l): \n",
    "  \n",
    "    # Maximal clique size \n",
    "    max_ = 0; \n",
    "  \n",
    "    # Check if any vertices from i+1 \n",
    "    # can be inserted \n",
    "    for j in range(i + 1, n + 1): \n",
    "  \n",
    "        # Add the vertex to store \n",
    "        store[l] = j; \n",
    "  \n",
    "        # If the graph is not a clique of size k then \n",
    "        # it cannot be a clique by adding another edge \n",
    "        if (is_clique(l + 1)): \n",
    "  \n",
    "            # Update max \n",
    "            max_ = max(max_, l); \n",
    "  \n",
    "            # Check if another edge can be added \n",
    "            max_ = max(max_, maxCliques(j, l + 1)); \n",
    "          \n",
    "    return max_; \n",
    "      \n",
    "# HERE WE ENTER OUR GRAPH WITH THE EDGES\n",
    "if __name__ == '__main__': \n",
    "    edges = E; \n",
    "    size = len(edges); \n",
    "    n = R-1; \n",
    "  \n",
    "    for i in range(size): \n",
    "        # On remplit la matrice\n",
    "        graph[edges[i][0]][edges[i][1]] = 1; \n",
    "        graph[edges[i][1]][edges[i][0]] = 1; \n",
    "        d[edges[i][0]] += 1; \n",
    "        d[edges[i][1]] += 1; \n",
    "      \n",
    "    print(maxCliques(0, 1));"
   ]
  },
  {
   "cell_type": "markdown",
   "metadata": {},
   "source": [
    "# Création pour chaque i de son ensemble de rectangle compatibles\n",
    "from gurobipy import *\n",
    "\n",
    "try:\n",
    "    # Create the model\n",
    "    m = gp.Model(\"task_1\")\n",
    "    \n",
    "    # Create variables\n",
    "    x_0 = m.addVar(vtype=GRB.BINARY, name=\"x_0\")\n",
    "    x_1 = m.addVar(vtype=GRB.BINARY, name=\"x_1\")\n",
    "    x_2 = m.addVar(vtype=GRB.BINARY, name=\"x_2\")\n",
    "    x_3 = m.addVar(vtype=GRB.BINARY, name=\"x_3\")\n",
    "    x_4 = m.addVar(vtype=GRB.BINARY, name=\"x_4\")\n",
    "\n",
    "    x = m.addVars(liste, vtype=GRB.BINARY, name = \"x\")\n",
    "    x = (x_0,x_1,x_2,x_3,x_4)\n",
    "\n",
    "    print(E)\n",
    "    for i in range(R):\n",
    "        E_i = []\n",
    "        for j in range(R):\n",
    "            if (i,j) in E:\n",
    "                E_i.append(j)\n",
    "            if (j,i) in E:\n",
    "                E_i.append(j)\n",
    "        print(i,E_i)\n",
    "        m.addConstr(quicksum(x[i,j] for j in E_i) <= 1)\n",
    "finally:\n",
    "    print(\"0ver\")"
   ]
  },
  {
   "cell_type": "code",
   "execution_count": 7,
   "metadata": {},
   "outputs": [
    {
     "name": "stdout",
     "output_type": "stream",
     "text": [
      "Academic license - for non-commercial use only - expires 2021-04-25\n",
      "Using license file /Users/colin/gurobi.lic\n",
      "[(0, 9), (0, 8), (0, 7), (0, 6), (0, 5), (0, 3), (0, 1), (1, 9), (1, 8), (1, 6), (1, 5), (1, 4), (1, 3), (1, 2), (2, 8), (2, 7), (2, 6), (2, 5), (2, 4), (2, 3), (3, 8), (3, 7), (3, 6), (3, 5), (4, 9), (4, 8), (4, 6), (4, 5), (5, 9), (5, 8), (5, 7), (5, 6), (6, 9), (6, 8), (6, 7), (7, 8), (8, 9)]\n",
      "0 [2, 4]\n",
      "1 [7]\n",
      "2 [0, 9]\n",
      "3 [4, 9]\n",
      "4 [0, 3, 7]\n",
      "5 []\n",
      "6 []\n",
      "7 [1, 4, 9]\n",
      "8 []\n",
      "9 [2, 3, 7]\n",
      "Gurobi Optimizer version 9.1.1 build v9.1.1rc0 (mac64)\n",
      "Thread count: 2 physical cores, 4 logical processors, using up to 4 threads\n",
      "Optimize a model with 16 rows, 10 columns and 32 nonzeros\n",
      "Model fingerprint: 0xa1ffaeeb\n",
      "Variable types: 0 continuous, 10 integer (10 binary)\n",
      "Coefficient statistics:\n",
      "  Matrix range     [1e+00, 1e+00]\n",
      "  Objective range  [1e+00, 1e+00]\n",
      "  Bounds range     [1e+00, 1e+00]\n",
      "  RHS range        [1e+00, 1e+00]\n",
      "Found heuristic solution: objective 6.0000000\n",
      "Presolve removed 11 rows and 5 columns\n",
      "Presolve time: 0.01s\n",
      "Presolved: 5 rows, 5 columns, 10 nonzeros\n",
      "Variable types: 0 continuous, 5 integer (5 binary)\n",
      "\n",
      "Root relaxation: cutoff, 2 iterations, 0.00 seconds\n",
      "\n",
      "    Nodes    |    Current Node    |     Objective Bounds      |     Work\n",
      " Expl Unexpl |  Obj  Depth IntInf | Incumbent    BestBd   Gap | It/Node Time\n",
      "\n",
      "     0     0     cutoff    0         6.00000    6.00000  0.00%     -    0s\n",
      "\n",
      "Explored 0 nodes (2 simplex iterations) in 0.05 seconds\n",
      "Thread count was 4 (of 4 available processors)\n",
      "\n",
      "Solution count 1: 6 \n",
      "\n",
      "Optimal solution found (tolerance 1.00e-04)\n",
      "Best objective 6.000000000000e+00, best bound 6.000000000000e+00, gap 0.0000%\n",
      "{0: <gurobi.Var x[0] (value 1.0)>, 1: <gurobi.Var x[1] (value 1.0)>, 2: <gurobi.Var x[2] (value -0.0)>, 3: <gurobi.Var x[3] (value 1.0)>, 4: <gurobi.Var x[4] (value -0.0)>, 5: <gurobi.Var x[5] (value 1.0)>, 6: <gurobi.Var x[6] (value 1.0)>, 7: <gurobi.Var x[7] (value -0.0)>, 8: <gurobi.Var x[8] (value 1.0)>, 9: <gurobi.Var x[9] (value -0.0)>}\n"
     ]
    }
   ],
   "source": [
    "from gurobipy import *\n",
    "import gurobipy as gp\n",
    "\n",
    "try:\n",
    "    # Create the model\n",
    "    m = gp.Model(\"task_1\")\n",
    "    \n",
    "    # Create variables\n",
    "    liste = range(R)\n",
    "    x = m.addVars(liste, vtype=GRB.BINARY, name = \"x\")\n",
    "    \n",
    "    # Set objective\n",
    "    m.setObjective(quicksum(x), GRB.MAXIMIZE)\n",
    "    \n",
    "    # Set constraints\n",
    "    print(E)\n",
    "    for i in range(R):\n",
    "        E_i = []\n",
    "        for j in range(R):\n",
    "            if i != j and (i,j) not in E and (j,i) not in E:\n",
    "                E_i.append(j)\n",
    "        print(i,E_i)\n",
    "        m.addConstrs((x[i] + x[k] <= 1 for k in E_i), name='')\n",
    "    m.optimize()  \n",
    "finally:\n",
    "    \n",
    "    print(x)"
   ]
  },
  {
   "cell_type": "code",
   "execution_count": 8,
   "metadata": {},
   "outputs": [],
   "source": [
    "# TOUT FAUX !!!!!!!\n",
    "#5  1,2,3 \n",
    "#10 1,2,4,7,8\n",
    "#8 2,3,6,7\n",
    "#7 2,3,6\n",
    "#6 1,2,3\n",
    "Z = (1,2,4,7,8)\n",
    "#Z = (1,2,3)\n",
    "#Z = (2,3,6,7)\n",
    "#Z = (2,3,6)\n",
    "#Z = (1,2,3,5)"
   ]
  },
  {
   "cell_type": "code",
   "execution_count": 9,
   "metadata": {},
   "outputs": [],
   "source": [
    "Z = (0,1,3,5,6,8)"
   ]
  },
  {
   "cell_type": "code",
   "execution_count": 10,
   "metadata": {},
   "outputs": [
    {
     "name": "stdout",
     "output_type": "stream",
     "text": [
      "(0, 1, 3, 5, 6, 8)\n"
     ]
    }
   ],
   "source": [
    "print(Z)"
   ]
  },
  {
   "cell_type": "code",
   "execution_count": 11,
   "metadata": {},
   "outputs": [
    {
     "data": {
      "image/png": "[encoded data removed]",
      "text/plain": [
       "<Figure size 720x432 with 1 Axes>"
      ]
     },
     "metadata": {
      "needs_background": "light"
     },
     "output_type": "display_data"
    }
   ],
   "source": [
    "from pylab import *\n",
    "import matplotlib.pyplot as plt\n",
    "import matplotlib.patches as patches\n",
    "\n",
    "\n",
    "# Create the window itself\n",
    "\n",
    "fig, ax = plt.subplots(figsize=(10, 6))\n",
    "\n",
    "xlim(0,10)\n",
    "ylim(0,20)\n",
    "\n",
    "# Create the rectangles \"patchs\"\n",
    "for i in range(R):\n",
    "    a = requests_list[i]\n",
    "    if i in Z:\n",
    "        rect = patches.Rectangle((a[0],a[2]),a[1]-a[0],a[3]-a[2], linewidth=1, edgecolor='g', facecolor='none')\n",
    "    else:\n",
    "        rect = patches.Rectangle((a[0],a[2]),a[1]-a[0],a[3]-a[2], linewidth=1, edgecolor='r', facecolor='none')\n",
    "        \n",
    "# Add the rectangle to the Axes\n",
    "    ax.add_patch(rect)\n",
    "\n",
    "plt.show()"
   ]
  },
  {
   "cell_type": "code",
   "execution_count": 12,
   "metadata": {},
   "outputs": [
    {
     "name": "stdout",
     "output_type": "stream",
     "text": [
      "[(4, 5, 4, 7), (7, 10, 15, 19), (6, 7, 0, 13), (0, 1, 3, 14), (0, 7, 0, 18), (7, 9, 7, 20)]\n"
     ]
    },
    {
     "data": {
      "image/png": "[encoded data removed]",
      "text/plain": [
       "<Figure size 720x432 with 1 Axes>"
      ]
     },
     "metadata": {
      "needs_background": "light"
     },
     "output_type": "display_data"
    }
   ],
   "source": [
    "new_list = []\n",
    "for i in range(R):\n",
    "    a = requests_list[i]\n",
    "    if i in Z:\n",
    "        new_list.append(a)\n",
    "print(new_list)\n",
    "\n",
    "\n",
    "fig, ax = plt.subplots(figsize=(10, 6))\n",
    "xlim(0,10)\n",
    "ylim(0,20)\n",
    "\n",
    "for i in range(len(new_list)):\n",
    "    a = new_list[i]\n",
    "    rect = patches.Rectangle((a[0],a[2]),a[1]-a[0],a[3]-a[2], linewidth=1, edgecolor='r', facecolor='none')\n",
    "     \n",
    "    ax.add_patch(rect)\n",
    "\n",
    "# Add the stairs  \n",
    "x = [0,1,6,7,9] \n",
    "y = [0, 0, \n",
    "     12,12,12]\n",
    "\n",
    "plt.step(x, y)    \n",
    "\n",
    "plt.show()"
   ]
  },
  {
   "cell_type": "code",
   "execution_count": 13,
   "metadata": {},
   "outputs": [
    {
     "name": "stdout",
     "output_type": "stream",
     "text": [
      "[0, 0, 4, 6, 7, 7, 10]\n",
      "[0, 3, 3, 4, 4, 7, 15]\n"
     ]
    }
   ],
   "source": [
    "x = []\n",
    "y = []\n",
    "y.append(0)\n",
    "ordre = sorted(new_list)\n",
    "for i in range(len(ordre)):\n",
    "    x.append(ordre[i][0])\n",
    "    y.append(max(ordre[i][2], y[i]))\n",
    "x.append(D)\n",
    "print(x)\n",
    "print(y)"
   ]
  },
  {
   "cell_type": "code",
   "execution_count": 14,
   "metadata": {},
   "outputs": [
    {
     "name": "stdout",
     "output_type": "stream",
     "text": [
      "[(4, 5, 4, 7), (7, 10, 15, 19), (6, 7, 0, 13), (0, 1, 3, 14), (0, 7, 0, 18), (7, 9, 7, 20)]\n",
      "0\n",
      "1\n",
      "2\n",
      "3\n",
      "4\n",
      "5\n",
      "[0, 0, 4, 6, 7, 7, 10]\n",
      "[0, 3, 3, 4, 4, 7, 15]\n"
     ]
    },
    {
     "data": {
      "image/png": "[encoded data removed]",
      "text/plain": [
       "<Figure size 720x432 with 1 Axes>"
      ]
     },
     "metadata": {
      "needs_background": "light"
     },
     "output_type": "display_data"
    }
   ],
   "source": [
    "new_list = []\n",
    "for i in range(R):\n",
    "    a = requests_list[i]\n",
    "    if i in Z:\n",
    "        new_list.append(a)\n",
    "print(new_list)\n",
    "\n",
    "\n",
    "fig, ax = plt.subplots(figsize=(10, 6))\n",
    "xlim(0,10)\n",
    "ylim(0,20)\n",
    "\n",
    "for i in range(len(new_list)):\n",
    "    a = new_list[i]\n",
    "    rect = patches.Rectangle((a[0],a[2]),a[1]-a[0],a[3]-a[2], linewidth=1, edgecolor='r', facecolor='none')\n",
    "     \n",
    "    ax.add_patch(rect)\n",
    "\n",
    "# Add the stairs  \n",
    "x = []\n",
    "y = []\n",
    "y.append(0)\n",
    "ordre = sorted(new_list)\n",
    "for i in range(len(ordre)):\n",
    "    print(i)\n",
    "    x.append(ordre[i][0])\n",
    "    if i == 0:\n",
    "        y.append(ordre[i][2])\n",
    "    else:\n",
    "        y.append(max(ordre[i][2], y[i]))\n",
    "x.append(D)\n",
    "print(x)\n",
    "print(y)\n",
    "plt.step(x, y)    \n",
    "\n",
    "plt.show()"
   ]
  },
  {
   "cell_type": "code",
   "execution_count": null,
   "metadata": {},
   "outputs": [],
   "source": []
  }
 ],
 "metadata": {
  "kernelspec": {
   "display_name": "Python 3",
   "language": "python",
   "name": "python3"
  },
  "language_info": {
   "codemirror_mode": {
    "name": "ipython",
    "version": 3
   },
   "file_extension": ".py",
   "mimetype": "text/x-python",
   "name": "python",
   "nbconvert_exporter": "python",
   "pygments_lexer": "ipython3",
   "version": "3.7.4"
  }
 },
 "nbformat": 4,
 "nbformat_minor": 2
}

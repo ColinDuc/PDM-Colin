{
 "cells": [
  {
   "cell_type": "markdown",
   "metadata": {},
   "source": [
    "# Paramètres (temps, stations et requêtes)"
   ]
  },
  {
   "cell_type": "code",
   "execution_count": 16,
   "metadata": {},
   "outputs": [],
   "source": [
    "# Time limit\n",
    "T = 20\n",
    "\n",
    "# Stations number\n",
    "D = 10\n",
    "\n",
    "# Requests number\n",
    "R = 10"
   ]
  },
  {
   "cell_type": "markdown",
   "metadata": {},
   "source": [
    "# Création des R requests (random)"
   ]
  },
  {
   "cell_type": "code",
   "execution_count": 17,
   "metadata": {},
   "outputs": [
    {
     "data": {
      "text/plain": [
       "[(4, 5, 4, 7),\n",
       " (7, 10, 15, 19),\n",
       " (1, 9, 12, 16),\n",
       " (6, 7, 0, 13),\n",
       " (3, 8, 14, 17),\n",
       " (0, 1, 3, 14),\n",
       " (0, 7, 0, 18),\n",
       " (0, 9, 6, 13),\n",
       " (7, 9, 7, 20),\n",
       " (5, 7, 17, 18)]"
      ]
     },
     "execution_count": 17,
     "metadata": {},
     "output_type": "execute_result"
    }
   ],
   "source": [
    "from random import seed\n",
    "from random import randint\n",
    "\n",
    "# seed random number generator\n",
    "seed(1)\n",
    "\n",
    "requests_list = []\n",
    "\n",
    "for i in range(R):\n",
    "    t1 = randint(0,T-1)\n",
    "    t2 = randint(t1+1,T)\n",
    "    d1 = randint(0,D-1)\n",
    "    d2 = randint(d1+1,D)\n",
    "    r = (d1,d2,t1,t2)\n",
    "    requests_list.append(r)\n",
    "requests_list"
   ]
  },
  {
   "cell_type": "markdown",
   "metadata": {},
   "source": [
    "# Vrai manque de visibilité des rectangles"
   ]
  },
  {
   "cell_type": "code",
   "execution_count": 18,
   "metadata": {
    "collapsed": true
   },
   "outputs": [
    {
     "data": {
      "image/png": "[encoded data removed]",
      "text/plain": [
       "<Figure size 720x432 with 1 Axes>"
      ]
     },
     "metadata": {
      "needs_background": "light"
     },
     "output_type": "display_data"
    }
   ],
   "source": [
    "from pylab import *\n",
    "import matplotlib.pyplot as plt\n",
    "import matplotlib.patches as patches\n",
    "\n",
    "\n",
    "# Create the window itself\n",
    "\n",
    "fig, ax = plt.subplots(figsize=(10, 6))\n",
    "\n",
    "xlim(0,10)\n",
    "ylim(0,20)\n",
    "\n",
    "# Create the rectangles \"patchs\"\n",
    "for i in range(R):\n",
    "    a = requests_list[i]\n",
    "    rect = patches.Rectangle((a[0],a[2]),a[1]-a[0],a[3]-a[2], linewidth=1, edgecolor='r', facecolor='none')\n",
    "\n",
    "# Add the rectangle to the Axes\n",
    "    ax.add_patch(rect)\n",
    "\n",
    "plt.show()"
   ]
  },
  {
   "cell_type": "markdown",
   "metadata": {},
   "source": [
    "# Clique creation in the graph\n",
    "\n",
    "r et s sont COMPATIBLES si r_left < s_left et r_bot < s_top\n",
    "\n",
    "                    et si r_top > s_bot si s_left < r_right\n",
    "                    \n",
    "dans requests_list, ça donne (d1,d2,t1,t2) = (r_left, r_right, r_bot, r_top)\n",
    "\n",
    "On stocke dans E les paires \"compatibles\""
   ]
  },
  {
   "cell_type": "code",
   "execution_count": 22,
   "metadata": {},
   "outputs": [
    {
     "name": "stdout",
     "output_type": "stream",
     "text": [
      "[(0, 9), (0, 8), (0, 7), (0, 6), (0, 5), (0, 3), (0, 1), (1, 9), (1, 8), (1, 6), (1, 5), (1, 4), (1, 3), (1, 2), (2, 8), (2, 7), (2, 6), (2, 5), (2, 4), (2, 3), (3, 8), (3, 7), (3, 6), (3, 5), (4, 9), (4, 8), (4, 6), (4, 5), (5, 9), (5, 8), (5, 7), (5, 6), (6, 9), (6, 8), (6, 7), (7, 8), (8, 9)]\n"
     ]
    }
   ],
   "source": [
    "# Les nodes sont dans V\n",
    "V = requests_list\n",
    "E = []\n",
    "\n",
    "for i in range(R):\n",
    "    for j in range(R-1-i):\n",
    "        V1 = V[i]\n",
    "        V2 = V[R-j-1]\n",
    "        #print(i,R-j-1)  # On les a bien tous\n",
    "        #print(V1,V2)\n",
    "        \n",
    "        # On regarde qui est le plus à gauche, on renomme si besoin\n",
    "        if V1[0] > V2[0]:\n",
    "            a = V2\n",
    "            V2 = V1\n",
    "            V1 = a\n",
    "            #print(V1,V2)\n",
    "            \n",
    "        if V1[2] <= V2[3]:  # r_bot < r'_top\n",
    "            \n",
    "            if V1[1] <= V2[0]:\n",
    "                E.append((i,R-j-1))\n",
    "            \n",
    "            elif V1[3] >= V2[2]:\n",
    "                E.append((i,R-j-1))\n",
    "print(E)"
   ]
  },
  {
   "cell_type": "markdown",
   "metadata": {},
   "source": [
    "# Clique selection avec Gurobi"
   ]
  },
  {
   "cell_type": "code",
   "execution_count": 28,
   "metadata": {},
   "outputs": [
    {
     "name": "stdout",
     "output_type": "stream",
     "text": [
      "[(0, 9), (0, 8), (0, 7), (0, 6), (0, 5), (0, 3), (0, 1), (1, 9), (1, 8), (1, 6), (1, 5), (1, 4), (1, 3), (1, 2), (2, 8), (2, 7), (2, 6), (2, 5), (2, 4), (2, 3), (3, 8), (3, 7), (3, 6), (3, 5), (4, 9), (4, 8), (4, 6), (4, 5), (5, 9), (5, 8), (5, 7), (5, 6), (6, 9), (6, 8), (6, 7), (7, 8), (8, 9)]\n",
      "0 [2, 4]\n",
      "1 [7]\n",
      "2 [0, 9]\n",
      "3 [4, 9]\n",
      "4 [0, 3, 7]\n",
      "5 []\n",
      "6 []\n",
      "7 [1, 4, 9]\n",
      "8 []\n",
      "9 [2, 3, 7]\n",
      "Gurobi Optimizer version 9.1.1 build v9.1.1rc0 (mac64)\n",
      "Thread count: 2 physical cores, 4 logical processors, using up to 4 threads\n",
      "Optimize a model with 16 rows, 10 columns and 32 nonzeros\n",
      "Model fingerprint: 0xa1ffaeeb\n",
      "Variable types: 0 continuous, 10 integer (10 binary)\n",
      "Coefficient statistics:\n",
      "  Matrix range     [1e+00, 1e+00]\n",
      "  Objective range  [1e+00, 1e+00]\n",
      "  Bounds range     [1e+00, 1e+00]\n",
      "  RHS range        [1e+00, 1e+00]\n",
      "Found heuristic solution: objective 6.0000000\n",
      "Presolve removed 11 rows and 5 columns\n",
      "Presolve time: 0.00s\n",
      "Presolved: 5 rows, 5 columns, 10 nonzeros\n",
      "Variable types: 0 continuous, 5 integer (5 binary)\n",
      "\n",
      "Root relaxation: cutoff, 2 iterations, 0.00 seconds\n",
      "\n",
      "    Nodes    |    Current Node    |     Objective Bounds      |     Work\n",
      " Expl Unexpl |  Obj  Depth IntInf | Incumbent    BestBd   Gap | It/Node Time\n",
      "\n",
      "     0     0     cutoff    0         6.00000    6.00000  0.00%     -    0s\n",
      "\n",
      "Explored 0 nodes (2 simplex iterations) in 0.03 seconds\n",
      "Thread count was 4 (of 4 available processors)\n",
      "\n",
      "Solution count 1: 6 \n",
      "\n",
      "Optimal solution found (tolerance 1.00e-04)\n",
      "Best objective 6.000000000000e+00, best bound 6.000000000000e+00, gap 0.0000%\n",
      "{0: <gurobi.Var x[0] (value 1.0)>, 1: <gurobi.Var x[1] (value 1.0)>, 2: <gurobi.Var x[2] (value -0.0)>, 3: <gurobi.Var x[3] (value 1.0)>, 4: <gurobi.Var x[4] (value -0.0)>, 5: <gurobi.Var x[5] (value 1.0)>, 6: <gurobi.Var x[6] (value 1.0)>, 7: <gurobi.Var x[7] (value -0.0)>, 8: <gurobi.Var x[8] (value 1.0)>, 9: <gurobi.Var x[9] (value -0.0)>}\n"
     ]
    }
   ],
   "source": [
    "from gurobipy import *\n",
    "import gurobipy as gp\n",
    "\n",
    "try:\n",
    "    # Create the model\n",
    "    m = gp.Model(\"task_1\")\n",
    "    \n",
    "    # Create variables\n",
    "    liste = range(R)\n",
    "    x = m.addVars(liste, vtype=GRB.BINARY, name = \"x\")\n",
    "    \n",
    "    # Set objective\n",
    "    m.setObjective(quicksum(x), GRB.MAXIMIZE)\n",
    "    \n",
    "    # Set constraints\n",
    "    print(E)\n",
    "    for i in range(R):\n",
    "        E_i = []\n",
    "        for j in range(R):\n",
    "            if i != j and (i,j) not in E and (j,i) not in E:\n",
    "                E_i.append(j)\n",
    "        print(i,E_i)\n",
    "        m.addConstrs((x[i] + x[k] <= 1 for k in E_i), name='')\n",
    "    m.optimize()  \n",
    "finally:\n",
    "    \n",
    "    print(x)"
   ]
  },
  {
   "cell_type": "code",
   "execution_count": 24,
   "metadata": {},
   "outputs": [],
   "source": [
    "# Faudrait voir à sortir les numéros sélectionnés directement depuis la réponse de Gurobi\n",
    "# et non pas \"à la main\"\n",
    "\n",
    "# R = 10\n",
    "Z = (0,1,3,5,6,8)\n",
    "\n",
    "# R = 5\n",
    "#Z = (1,2,3)"
   ]
  },
  {
   "cell_type": "code",
   "execution_count": 25,
   "metadata": {},
   "outputs": [
    {
     "data": {
      "image/png": "[encoded data removed]",
      "text/plain": [
       "<Figure size 720x432 with 1 Axes>"
      ]
     },
     "metadata": {
      "needs_background": "light"
     },
     "output_type": "display_data"
    }
   ],
   "source": [
    "from pylab import *\n",
    "import matplotlib.pyplot as plt\n",
    "import matplotlib.patches as patches\n",
    "\n",
    "\n",
    "# Create the window itself\n",
    "\n",
    "fig, ax = plt.subplots(figsize=(10, 6))\n",
    "\n",
    "xlim(0,10)\n",
    "ylim(0,20)\n",
    "\n",
    "# Create the rectangles \"patchs\"\n",
    "for i in range(R):\n",
    "    a = requests_list[i]\n",
    "    if i in Z:\n",
    "        rect = patches.Rectangle((a[0],a[2]),a[1]-a[0],a[3]-a[2], linewidth=1, edgecolor='g', facecolor='none')\n",
    "    else:\n",
    "        rect = patches.Rectangle((a[0],a[2]),a[1]-a[0],a[3]-a[2], linewidth=1, edgecolor='r', facecolor='none')\n",
    "        \n",
    "# Add the rectangle to the Axes\n",
    "    ax.add_patch(rect)\n",
    "\n",
    "plt.show()"
   ]
  },
  {
   "cell_type": "code",
   "execution_count": 29,
   "metadata": {
    "scrolled": true
   },
   "outputs": [
    {
     "name": "stdout",
     "output_type": "stream",
     "text": [
      "[(4, 5, 4, 7), (7, 10, 15, 19), (6, 7, 0, 13), (0, 1, 3, 14), (0, 7, 0, 18), (7, 9, 7, 20)]\n",
      "[0, 0, 4, 6, 7, 7, 10]\n",
      "[0, 3, 3, 4, 4, 7, 15]\n"
     ]
    },
    {
     "data": {
      "image/png": "[encoded data removed]",
      "text/plain": [
       "<Figure size 720x432 with 1 Axes>"
      ]
     },
     "metadata": {
      "needs_background": "light"
     },
     "output_type": "display_data"
    }
   ],
   "source": [
    "new_list = []\n",
    "for i in range(R):\n",
    "    a = requests_list[i]\n",
    "    if i in Z:\n",
    "        new_list.append(a)\n",
    "print(new_list)\n",
    "\n",
    "\n",
    "fig, ax = plt.subplots(figsize=(10, 6))\n",
    "xlim(0,10)\n",
    "ylim(0,20)\n",
    "\n",
    "for i in range(len(new_list)):\n",
    "    a = new_list[i]\n",
    "    rect = patches.Rectangle((a[0],a[2]),a[1]-a[0],a[3]-a[2], linewidth=1, edgecolor='r', facecolor='none')\n",
    "     \n",
    "    ax.add_patch(rect)\n",
    "\n",
    "# Add the stairs  \n",
    "x = []\n",
    "y = []\n",
    "y.append(0)\n",
    "ordre = sorted(new_list)\n",
    "for i in range(len(ordre)):\n",
    "    x.append(ordre[i][0])\n",
    "    if i == 0:\n",
    "        y.append(ordre[i][2])\n",
    "    else:\n",
    "        y.append(max(ordre[i][2], y[i]))\n",
    "x.append(D)\n",
    "print(x)\n",
    "print(y)\n",
    "plt.step(x, y)    \n",
    "\n",
    "plt.show()"
   ]
  },
  {
   "cell_type": "markdown",
   "metadata": {},
   "source": [
    "# Voir le stair dans tous les rectangles d'entrée"
   ]
  },
  {
   "cell_type": "code",
   "execution_count": 30,
   "metadata": {},
   "outputs": [
    {
     "data": {
      "image/png": "[encoded data removed]",
      "text/plain": [
       "<Figure size 720x432 with 1 Axes>"
      ]
     },
     "metadata": {
      "needs_background": "light"
     },
     "output_type": "display_data"
    }
   ],
   "source": [
    "fig, ax = plt.subplots(figsize=(10, 6))\n",
    "\n",
    "xlim(0,10)\n",
    "ylim(0,20)\n",
    "\n",
    "# Create the rectangles \"patchs\"\n",
    "for i in range(R):\n",
    "    a = requests_list[i]\n",
    "    rect = patches.Rectangle((a[0],a[2]),a[1]-a[0],a[3]-a[2], linewidth=1, edgecolor='r', facecolor='none')\n",
    "\n",
    "# Add the rectangle to the Axes\n",
    "    ax.add_patch(rect)\n",
    "\n",
    "plt.step(x, y) \n",
    "    \n",
    "plt.show()"
   ]
  },
  {
   "cell_type": "code",
   "execution_count": null,
   "metadata": {},
   "outputs": [],
   "source": []
  }
 ],
 "metadata": {
  "kernelspec": {
   "display_name": "Python 3",
   "language": "python",
   "name": "python3"
  },
  "language_info": {
   "codemirror_mode": {
    "name": "ipython",
    "version": 3
   },
   "file_extension": ".py",
   "mimetype": "text/x-python",
   "name": "python",
   "nbconvert_exporter": "python",
   "pygments_lexer": "ipython3",
   "version": "3.7.4"
  }
 },
 "nbformat": 4,
 "nbformat_minor": 2
}
